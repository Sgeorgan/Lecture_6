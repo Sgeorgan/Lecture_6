{
 "cells": [
  {
   "cell_type": "markdown",
   "metadata": {},
   "source": [
    "# More processing data with pandas \n",
    "\n",
    "Along the way we will cover a number of useful techniques in pandas including:\n",
    "\n",
    "- renaming columns\n",
    "- iterating data frame rows and applying functions\n",
    "- data aggregation\n",
    "- repeating the analysis task for several input files"
   ]
  },
  {
   "cell_type": "markdown",
   "metadata": {},
   "source": [
    "## Input data\n",
    "\n",
    "In the lesson this week we are using simulated data for Sweden. You will be working with data from a total of 5 different weather observation stations in Sweden."
   ]
  },
  {
   "cell_type": "markdown",
   "metadata": {},
   "source": [
    "## Reading the data\n",
    "\n",
    "In order to get started, let's first import pandas: "
   ]
  },
  {
   "cell_type": "code",
   "execution_count": 1,
   "metadata": {},
   "outputs": [],
   "source": [
    "import pandas as pd"
   ]
  },
  {
   "cell_type": "markdown",
   "metadata": {},
   "source": [
    "At this point, we can already have a quick look at the data file `Stockholm.txt` for Stockholm and how it is structured. We can notice at least two things we need to consider when reading in the data:\n",
    "\n",
    "```{admonition} Input data structure\n",
    "- **Delimiter:** The data are **separated with a varying amount of spaces**. If you check out the documentation for the [read_csv() method](https://pandas.pydata.org/pandas-docs/stable/reference/api/pandas.read_csv.html), you can see that there are two different ways of doing this. We can use either `sep='\\s+'` or `delim_whitespace=True` (but not both at the same time). In this case, we prefer to use `delim_whitespace` parameter.\n",
    "\n",
    "- **No Data values:** No data values in the Simulated Data data are coded with varying number of `*`. We can tell pandas to consider those characters as NaNs by specifying `na_values=['*', '**', '***', '****', '*****', '******']`.\n",
    "```"
   ]
  },
  {
   "cell_type": "code",
   "execution_count": 2,
   "metadata": {},
   "outputs": [],
   "source": [
    "# Define absolute path to the file\n",
    "fp = r\"D:/Teaching_Development/Python_1_course_VT24/missing lecture/dataset/Stockholm_continuous_final.txt\"  "
   ]
  },
  {
   "cell_type": "code",
   "execution_count": 3,
   "metadata": {},
   "outputs": [],
   "source": [
    "# Read data using varying amount of spaces as separator and specifying * characters as NoData values\n",
    "# And don't worry about the warning message generated when running this cell\n",
    "data = pd.read_csv(\n",
    "    fp, delim_whitespace=True, na_values=[\"*\", \"**\", \"***\", \"****\", \"*****\", \"******\"]\n",
    ")"
   ]
  },
  {
   "cell_type": "code",
   "execution_count": 4,
   "metadata": {
    "jupyter": {
     "outputs_hidden": false
    }
   },
   "outputs": [
    {
     "data": {
      "text/html": [
       "<div>\n",
       "<style scoped>\n",
       "    .dataframe tbody tr th:only-of-type {\n",
       "        vertical-align: middle;\n",
       "    }\n",
       "\n",
       "    .dataframe tbody tr th {\n",
       "        vertical-align: top;\n",
       "    }\n",
       "\n",
       "    .dataframe thead th {\n",
       "        text-align: right;\n",
       "    }\n",
       "</style>\n",
       "<table border=\"1\" class=\"dataframe\">\n",
       "  <thead>\n",
       "    <tr style=\"text-align: right;\">\n",
       "      <th></th>\n",
       "      <th>USAF</th>\n",
       "      <th>WBAN</th>\n",
       "      <th>Temperature</th>\n",
       "      <th>Precipitation</th>\n",
       "      <th>WindSpeed</th>\n",
       "      <th>Humidity</th>\n",
       "      <th>City</th>\n",
       "      <th>YRMODAHRMN</th>\n",
       "    </tr>\n",
       "  </thead>\n",
       "  <tbody>\n",
       "    <tr>\n",
       "      <th>0</th>\n",
       "      <td>221958</td>\n",
       "      <td>28030</td>\n",
       "      <td>82.530449</td>\n",
       "      <td>35.871553</td>\n",
       "      <td>3.502463</td>\n",
       "      <td>59.251273</td>\n",
       "      <td>Stockholm</td>\n",
       "      <td>201801010926</td>\n",
       "    </tr>\n",
       "    <tr>\n",
       "      <th>1</th>\n",
       "      <td>771155</td>\n",
       "      <td>92838</td>\n",
       "      <td>60.016636</td>\n",
       "      <td>80.443721</td>\n",
       "      <td>13.455292</td>\n",
       "      <td>75.763007</td>\n",
       "      <td>Stockholm</td>\n",
       "      <td>201801020720</td>\n",
       "    </tr>\n",
       "    <tr>\n",
       "      <th>2</th>\n",
       "      <td>231932</td>\n",
       "      <td>94717</td>\n",
       "      <td>76.490117</td>\n",
       "      <td>27.875987</td>\n",
       "      <td>4.410085</td>\n",
       "      <td>99.744067</td>\n",
       "      <td>Stockholm</td>\n",
       "      <td>201801030828</td>\n",
       "    </tr>\n",
       "    <tr>\n",
       "      <th>3</th>\n",
       "      <td>465838</td>\n",
       "      <td>65658</td>\n",
       "      <td>46.741270</td>\n",
       "      <td>21.070496</td>\n",
       "      <td>4.364151</td>\n",
       "      <td>66.115737</td>\n",
       "      <td>Stockholm</td>\n",
       "      <td>201801041432</td>\n",
       "    </tr>\n",
       "    <tr>\n",
       "      <th>4</th>\n",
       "      <td>359178</td>\n",
       "      <td>48638</td>\n",
       "      <td>51.122914</td>\n",
       "      <td>95.744802</td>\n",
       "      <td>17.481435</td>\n",
       "      <td>95.241484</td>\n",
       "      <td>Stockholm</td>\n",
       "      <td>201801052236</td>\n",
       "    </tr>\n",
       "  </tbody>\n",
       "</table>\n",
       "</div>"
      ],
      "text/plain": [
       "     USAF   WBAN  Temperature  Precipitation  WindSpeed   Humidity       City  \\\n",
       "0  221958  28030    82.530449      35.871553   3.502463  59.251273  Stockholm   \n",
       "1  771155  92838    60.016636      80.443721  13.455292  75.763007  Stockholm   \n",
       "2  231932  94717    76.490117      27.875987   4.410085  99.744067  Stockholm   \n",
       "3  465838  65658    46.741270      21.070496   4.364151  66.115737  Stockholm   \n",
       "4  359178  48638    51.122914      95.744802  17.481435  95.241484  Stockholm   \n",
       "\n",
       "     YRMODAHRMN  \n",
       "0  201801010926  \n",
       "1  201801020720  \n",
       "2  201801030828  \n",
       "3  201801041432  \n",
       "4  201801052236  "
      ]
     },
     "execution_count": 4,
     "metadata": {},
     "output_type": "execute_result"
    }
   ],
   "source": [
    "data.head()"
   ]
  },
  {
   "cell_type": "markdown",
   "metadata": {},
   "source": [
    "All seems ok. However, we won't be needing all of the 8 columns for detecting warm temperatures in April. We can check all column names by running `data.columns`:"
   ]
  },
  {
   "cell_type": "code",
   "execution_count": 5,
   "metadata": {
    "jupyter": {
     "outputs_hidden": false
    }
   },
   "outputs": [
    {
     "data": {
      "text/plain": [
       "Index(['USAF', 'WBAN', 'Temperature', 'Precipitation', 'WindSpeed', 'Humidity',\n",
       "       'City', 'YRMODAHRMN'],\n",
       "      dtype='object')"
      ]
     },
     "execution_count": 5,
     "metadata": {},
     "output_type": "execute_result"
    }
   ],
   "source": [
    "data.columns"
   ]
  },
  {
   "cell_type": "markdown",
   "metadata": {},
   "source": [
    "A description for all these columns is available in the metadata file [data/3505doc.txt](SwedishDataDescription.txt). \n",
    "\n",
    "### Reading in the data once again\n",
    "\n",
    "This time, we will read in only some of the columns using the `usecols` parameter. Let's read in columns that might be somehow useful to our analysis, or at least that contain some values that are meaningful to us, including the station name, timestamp, and data about wind and temperature: `'Date','Temperature', 'Precipitation', 'City'`"
   ]
  },
  {
   "cell_type": "code",
   "execution_count": 6,
   "metadata": {},
   "outputs": [
    {
     "data": {
      "text/html": [
       "<div>\n",
       "<style scoped>\n",
       "    .dataframe tbody tr th:only-of-type {\n",
       "        vertical-align: middle;\n",
       "    }\n",
       "\n",
       "    .dataframe tbody tr th {\n",
       "        vertical-align: top;\n",
       "    }\n",
       "\n",
       "    .dataframe thead th {\n",
       "        text-align: right;\n",
       "    }\n",
       "</style>\n",
       "<table border=\"1\" class=\"dataframe\">\n",
       "  <thead>\n",
       "    <tr style=\"text-align: right;\">\n",
       "      <th></th>\n",
       "      <th>Temperature</th>\n",
       "      <th>Precipitation</th>\n",
       "      <th>City</th>\n",
       "      <th>YRMODAHRMN</th>\n",
       "    </tr>\n",
       "  </thead>\n",
       "  <tbody>\n",
       "    <tr>\n",
       "      <th>0</th>\n",
       "      <td>82.530449</td>\n",
       "      <td>35.871553</td>\n",
       "      <td>Stockholm</td>\n",
       "      <td>201801010926</td>\n",
       "    </tr>\n",
       "    <tr>\n",
       "      <th>1</th>\n",
       "      <td>60.016636</td>\n",
       "      <td>80.443721</td>\n",
       "      <td>Stockholm</td>\n",
       "      <td>201801020720</td>\n",
       "    </tr>\n",
       "    <tr>\n",
       "      <th>2</th>\n",
       "      <td>76.490117</td>\n",
       "      <td>27.875987</td>\n",
       "      <td>Stockholm</td>\n",
       "      <td>201801030828</td>\n",
       "    </tr>\n",
       "    <tr>\n",
       "      <th>3</th>\n",
       "      <td>46.741270</td>\n",
       "      <td>21.070496</td>\n",
       "      <td>Stockholm</td>\n",
       "      <td>201801041432</td>\n",
       "    </tr>\n",
       "    <tr>\n",
       "      <th>4</th>\n",
       "      <td>51.122914</td>\n",
       "      <td>95.744802</td>\n",
       "      <td>Stockholm</td>\n",
       "      <td>201801052236</td>\n",
       "    </tr>\n",
       "  </tbody>\n",
       "</table>\n",
       "</div>"
      ],
      "text/plain": [
       "   Temperature  Precipitation       City    YRMODAHRMN\n",
       "0    82.530449      35.871553  Stockholm  201801010926\n",
       "1    60.016636      80.443721  Stockholm  201801020720\n",
       "2    76.490117      27.875987  Stockholm  201801030828\n",
       "3    46.741270      21.070496  Stockholm  201801041432\n",
       "4    51.122914      95.744802  Stockholm  201801052236"
      ]
     },
     "execution_count": 6,
     "metadata": {},
     "output_type": "execute_result"
    }
   ],
   "source": [
    "# Read in only selected columns\n",
    "data = pd.read_csv(\n",
    "    fp,\n",
    "    delim_whitespace=True,\n",
    "    usecols=[\"YRMODAHRMN\",\"Temperature\", \"Precipitation\",\"City\"],\n",
    "    na_values=[\"*\", \"**\", \"***\", \"****\", \"*****\", \"******\"],\n",
    ")\n",
    "\n",
    "# Check the dataframe\n",
    "data.head()"
   ]
  },
  {
   "cell_type": "markdown",
   "metadata": {},
   "source": [
    "Okay so we can see that the data was successfully read to the DataFrame and we also seemed to be able to convert the asterisk (\\*) characters into `NaN` values. "
   ]
  },
  {
   "cell_type": "markdown",
   "metadata": {},
   "source": [
    "## Renaming columns\n",
    "\n",
    "Let's rename the columns  using the [rename](https://pandas.pydata.org/pandas-docs/stable/reference/api/pandas.DataFrame.rename.html) function. In order to change the column names, we need to tell pandas how we want to rename the columns using a dictionary that lists old and new column names\n",
    "\n",
    "Let's first check again the current column names in our DataFrame:"
   ]
  },
  {
   "cell_type": "code",
   "execution_count": 7,
   "metadata": {},
   "outputs": [
    {
     "data": {
      "text/plain": [
       "Index(['Temperature', 'Precipitation', 'City', 'YRMODAHRMN'], dtype='object')"
      ]
     },
     "execution_count": 7,
     "metadata": {},
     "output_type": "execute_result"
    }
   ],
   "source": [
    "data.columns"
   ]
  },
  {
   "cell_type": "markdown",
   "metadata": {},
   "source": [
    "We can define the new column names using a [dictionary](https://docs.python.org/3/tutorial/datastructures.html#dictionaries) where we list `key: value` pairs, in which the original column name (the one which will be replaced) is the key and the new column name is the value.\n",
    "\n",
    "```{admonition} Dictionaries\n",
    "A [dictionary](https://docs.python.org/3/tutorial/datastructures.html#dictionaries) is a specific type of data structure in Python for storing key-value pairs. In this course, we will use dictionaries mainly when renaming columns in a pandas DataFrame, but dictionaries are useful for many different purposes! For more information about Python dictionaries, check out [this tutorial](https://realpython.com/python-dicts/).\n",
    "```\n",
    "\n",
    "Let's change the following:\n",
    "\n",
    "- `Temperature` to `Temp_Average`\n",
    "- `Precipitation` to `PRECIP`\n",
    "- `City` to `Location`\n",
    "- `YRMODAHRMN` to `Date`\n",
    "\n"
   ]
  },
  {
   "cell_type": "code",
   "execution_count": 8,
   "metadata": {
    "jupyter": {
     "outputs_hidden": false
    }
   },
   "outputs": [
    {
     "data": {
      "text/plain": [
       "{'Temperature': 'Temp_Average',\n",
       " 'Precipitation': 'PRECIP',\n",
       " 'City': 'Location',\n",
       " 'YRMODAHRMN': 'Date'}"
      ]
     },
     "execution_count": 8,
     "metadata": {},
     "output_type": "execute_result"
    }
   ],
   "source": [
    "# Create the dictionary with old and new names\n",
    "new_names = {\"Temperature\": \"Temp_Average\", \"Precipitation\": \"PRECIP\", \"City\": \"Location\",\"YRMODAHRMN\": \"Date\"}\n",
    "\n",
    "# Let's see what the variable new_names look like\n",
    "new_names"
   ]
  },
  {
   "cell_type": "code",
   "execution_count": 9,
   "metadata": {},
   "outputs": [
    {
     "data": {
      "text/plain": [
       "dict"
      ]
     },
     "execution_count": 9,
     "metadata": {},
     "output_type": "execute_result"
    }
   ],
   "source": [
    "# Check the data type of the new_names variable\n",
    "type(new_names)"
   ]
  },
  {
   "cell_type": "markdown",
   "metadata": {},
   "source": [
    "From above we can see that we have successfully created a new dictionary. \n",
    "\n",
    "Now we can change the column names by passing that dictionary using the parameter `columns` in the `rename()` function:"
   ]
  },
  {
   "cell_type": "code",
   "execution_count": 10,
   "metadata": {
    "jupyter": {
     "outputs_hidden": false
    }
   },
   "outputs": [
    {
     "name": "stdout",
     "output_type": "stream",
     "text": [
      "Index(['Temp_Average', 'PRECIP', 'Location', 'Date'], dtype='object')\n"
     ]
    }
   ],
   "source": [
    "# Rename the columns\n",
    "data = data.rename(columns=new_names)\n",
    "\n",
    "# Print the new columns\n",
    "print(data.columns)"
   ]
  },
  {
   "cell_type": "markdown",
   "metadata": {},
   "source": [
    "Perfect, now our column names are easier to understand and use. "
   ]
  },
  {
   "cell_type": "markdown",
   "metadata": {},
   "source": [
    "### Check your understanding\n",
    "\n",
    "The temperature values in our data files are again in Fahrenheit. As you might guess, we will soon convert these temperatures in to Celsius. In order to avoid confusion with the columns, let's rename the column `TEMP` to `TEMP_F`. Let's also rename `USAF` to `STATION_NUMBER`."
   ]
  },
  {
   "cell_type": "code",
   "execution_count": 11,
   "metadata": {
    "tags": [
     "hide-cell"
    ]
   },
   "outputs": [
    {
     "data": {
      "text/html": [
       "<div>\n",
       "<style scoped>\n",
       "    .dataframe tbody tr th:only-of-type {\n",
       "        vertical-align: middle;\n",
       "    }\n",
       "\n",
       "    .dataframe tbody tr th {\n",
       "        vertical-align: top;\n",
       "    }\n",
       "\n",
       "    .dataframe thead th {\n",
       "        text-align: right;\n",
       "    }\n",
       "</style>\n",
       "<table border=\"1\" class=\"dataframe\">\n",
       "  <thead>\n",
       "    <tr style=\"text-align: right;\">\n",
       "      <th></th>\n",
       "      <th>Temp_Average_F</th>\n",
       "      <th>PRECIP</th>\n",
       "      <th>Location</th>\n",
       "      <th>Date</th>\n",
       "    </tr>\n",
       "  </thead>\n",
       "  <tbody>\n",
       "    <tr>\n",
       "      <th>0</th>\n",
       "      <td>82.530449</td>\n",
       "      <td>35.871553</td>\n",
       "      <td>Stockholm</td>\n",
       "      <td>201801010926</td>\n",
       "    </tr>\n",
       "    <tr>\n",
       "      <th>1</th>\n",
       "      <td>60.016636</td>\n",
       "      <td>80.443721</td>\n",
       "      <td>Stockholm</td>\n",
       "      <td>201801020720</td>\n",
       "    </tr>\n",
       "    <tr>\n",
       "      <th>2</th>\n",
       "      <td>76.490117</td>\n",
       "      <td>27.875987</td>\n",
       "      <td>Stockholm</td>\n",
       "      <td>201801030828</td>\n",
       "    </tr>\n",
       "    <tr>\n",
       "      <th>3</th>\n",
       "      <td>46.741270</td>\n",
       "      <td>21.070496</td>\n",
       "      <td>Stockholm</td>\n",
       "      <td>201801041432</td>\n",
       "    </tr>\n",
       "    <tr>\n",
       "      <th>4</th>\n",
       "      <td>51.122914</td>\n",
       "      <td>95.744802</td>\n",
       "      <td>Stockholm</td>\n",
       "      <td>201801052236</td>\n",
       "    </tr>\n",
       "  </tbody>\n",
       "</table>\n",
       "</div>"
      ],
      "text/plain": [
       "   Temp_Average_F     PRECIP   Location          Date\n",
       "0       82.530449  35.871553  Stockholm  201801010926\n",
       "1       60.016636  80.443721  Stockholm  201801020720\n",
       "2       76.490117  27.875987  Stockholm  201801030828\n",
       "3       46.741270  21.070496  Stockholm  201801041432\n",
       "4       51.122914  95.744802  Stockholm  201801052236"
      ]
     },
     "execution_count": 11,
     "metadata": {},
     "output_type": "execute_result"
    }
   ],
   "source": [
    "# Solution\n",
    "# Create the dictionary with old and new names\n",
    "new_names = { \"Temp_Average\": \"Temp_Average_F\"}\n",
    "\n",
    "# Rename the columns\n",
    "data = data.rename(columns=new_names)\n",
    "\n",
    "# Check the output\n",
    "data.head()"
   ]
  },
  {
   "cell_type": "markdown",
   "metadata": {},
   "source": [
    "## Data properties\n",
    "\n",
    "As we learned last week, it's always a good idea to check basic properties of the input data before proceeding with the data analysis. Let's check the:\n",
    "\n",
    "- Number of rows and columns"
   ]
  },
  {
   "cell_type": "code",
   "execution_count": 12,
   "metadata": {},
   "outputs": [
    {
     "data": {
      "text/plain": [
       "(1096, 4)"
      ]
     },
     "execution_count": 12,
     "metadata": {},
     "output_type": "execute_result"
    }
   ],
   "source": [
    "data.shape"
   ]
  },
  {
   "cell_type": "markdown",
   "metadata": {},
   "source": [
    "- Top and bottom rows"
   ]
  },
  {
   "cell_type": "code",
   "execution_count": 13,
   "metadata": {},
   "outputs": [
    {
     "data": {
      "text/html": [
       "<div>\n",
       "<style scoped>\n",
       "    .dataframe tbody tr th:only-of-type {\n",
       "        vertical-align: middle;\n",
       "    }\n",
       "\n",
       "    .dataframe tbody tr th {\n",
       "        vertical-align: top;\n",
       "    }\n",
       "\n",
       "    .dataframe thead th {\n",
       "        text-align: right;\n",
       "    }\n",
       "</style>\n",
       "<table border=\"1\" class=\"dataframe\">\n",
       "  <thead>\n",
       "    <tr style=\"text-align: right;\">\n",
       "      <th></th>\n",
       "      <th>Temp_Average_F</th>\n",
       "      <th>PRECIP</th>\n",
       "      <th>Location</th>\n",
       "      <th>Date</th>\n",
       "    </tr>\n",
       "  </thead>\n",
       "  <tbody>\n",
       "    <tr>\n",
       "      <th>0</th>\n",
       "      <td>82.530449</td>\n",
       "      <td>35.871553</td>\n",
       "      <td>Stockholm</td>\n",
       "      <td>201801010926</td>\n",
       "    </tr>\n",
       "    <tr>\n",
       "      <th>1</th>\n",
       "      <td>60.016636</td>\n",
       "      <td>80.443721</td>\n",
       "      <td>Stockholm</td>\n",
       "      <td>201801020720</td>\n",
       "    </tr>\n",
       "    <tr>\n",
       "      <th>2</th>\n",
       "      <td>76.490117</td>\n",
       "      <td>27.875987</td>\n",
       "      <td>Stockholm</td>\n",
       "      <td>201801030828</td>\n",
       "    </tr>\n",
       "    <tr>\n",
       "      <th>3</th>\n",
       "      <td>46.741270</td>\n",
       "      <td>21.070496</td>\n",
       "      <td>Stockholm</td>\n",
       "      <td>201801041432</td>\n",
       "    </tr>\n",
       "    <tr>\n",
       "      <th>4</th>\n",
       "      <td>51.122914</td>\n",
       "      <td>95.744802</td>\n",
       "      <td>Stockholm</td>\n",
       "      <td>201801052236</td>\n",
       "    </tr>\n",
       "  </tbody>\n",
       "</table>\n",
       "</div>"
      ],
      "text/plain": [
       "   Temp_Average_F     PRECIP   Location          Date\n",
       "0       82.530449  35.871553  Stockholm  201801010926\n",
       "1       60.016636  80.443721  Stockholm  201801020720\n",
       "2       76.490117  27.875987  Stockholm  201801030828\n",
       "3       46.741270  21.070496  Stockholm  201801041432\n",
       "4       51.122914  95.744802  Stockholm  201801052236"
      ]
     },
     "execution_count": 13,
     "metadata": {},
     "output_type": "execute_result"
    }
   ],
   "source": [
    "data.head()"
   ]
  },
  {
   "cell_type": "code",
   "execution_count": 14,
   "metadata": {},
   "outputs": [
    {
     "data": {
      "text/html": [
       "<div>\n",
       "<style scoped>\n",
       "    .dataframe tbody tr th:only-of-type {\n",
       "        vertical-align: middle;\n",
       "    }\n",
       "\n",
       "    .dataframe tbody tr th {\n",
       "        vertical-align: top;\n",
       "    }\n",
       "\n",
       "    .dataframe thead th {\n",
       "        text-align: right;\n",
       "    }\n",
       "</style>\n",
       "<table border=\"1\" class=\"dataframe\">\n",
       "  <thead>\n",
       "    <tr style=\"text-align: right;\">\n",
       "      <th></th>\n",
       "      <th>Temp_Average_F</th>\n",
       "      <th>PRECIP</th>\n",
       "      <th>Location</th>\n",
       "      <th>Date</th>\n",
       "    </tr>\n",
       "  </thead>\n",
       "  <tbody>\n",
       "    <tr>\n",
       "      <th>1091</th>\n",
       "      <td>63.515987</td>\n",
       "      <td>36.739073</td>\n",
       "      <td>Stockholm</td>\n",
       "      <td>202012271736</td>\n",
       "    </tr>\n",
       "    <tr>\n",
       "      <th>1092</th>\n",
       "      <td>66.034901</td>\n",
       "      <td>8.701722</td>\n",
       "      <td>Stockholm</td>\n",
       "      <td>202012281946</td>\n",
       "    </tr>\n",
       "    <tr>\n",
       "      <th>1093</th>\n",
       "      <td>63.862335</td>\n",
       "      <td>55.678491</td>\n",
       "      <td>Stockholm</td>\n",
       "      <td>202012292059</td>\n",
       "    </tr>\n",
       "    <tr>\n",
       "      <th>1094</th>\n",
       "      <td>23.679329</td>\n",
       "      <td>84.512085</td>\n",
       "      <td>Stockholm</td>\n",
       "      <td>202012301905</td>\n",
       "    </tr>\n",
       "    <tr>\n",
       "      <th>1095</th>\n",
       "      <td>35.556482</td>\n",
       "      <td>79.592639</td>\n",
       "      <td>Stockholm</td>\n",
       "      <td>202012310348</td>\n",
       "    </tr>\n",
       "  </tbody>\n",
       "</table>\n",
       "</div>"
      ],
      "text/plain": [
       "      Temp_Average_F     PRECIP   Location          Date\n",
       "1091       63.515987  36.739073  Stockholm  202012271736\n",
       "1092       66.034901   8.701722  Stockholm  202012281946\n",
       "1093       63.862335  55.678491  Stockholm  202012292059\n",
       "1094       23.679329  84.512085  Stockholm  202012301905\n",
       "1095       35.556482  79.592639  Stockholm  202012310348"
      ]
     },
     "execution_count": 14,
     "metadata": {},
     "output_type": "execute_result"
    }
   ],
   "source": [
    "data.tail()"
   ]
  },
  {
   "cell_type": "markdown",
   "metadata": {},
   "source": [
    "- Data types of the columns"
   ]
  },
  {
   "cell_type": "code",
   "execution_count": 15,
   "metadata": {},
   "outputs": [
    {
     "data": {
      "text/plain": [
       "Temp_Average_F    float64\n",
       "PRECIP            float64\n",
       "Location           object\n",
       "Date                int64\n",
       "dtype: object"
      ]
     },
     "execution_count": 15,
     "metadata": {},
     "output_type": "execute_result"
    }
   ],
   "source": [
    "data.dtypes"
   ]
  },
  {
   "cell_type": "markdown",
   "metadata": {},
   "source": [
    "- Descriptive statistics"
   ]
  },
  {
   "cell_type": "code",
   "execution_count": 16,
   "metadata": {
    "jupyter": {
     "outputs_hidden": false
    }
   },
   "outputs": [
    {
     "data": {
      "text/html": [
       "<div>\n",
       "<style scoped>\n",
       "    .dataframe tbody tr th:only-of-type {\n",
       "        vertical-align: middle;\n",
       "    }\n",
       "\n",
       "    .dataframe tbody tr th {\n",
       "        vertical-align: top;\n",
       "    }\n",
       "\n",
       "    .dataframe thead th {\n",
       "        text-align: right;\n",
       "    }\n",
       "</style>\n",
       "<table border=\"1\" class=\"dataframe\">\n",
       "  <thead>\n",
       "    <tr style=\"text-align: right;\">\n",
       "      <th></th>\n",
       "      <th>Temp_Average_F</th>\n",
       "      <th>PRECIP</th>\n",
       "      <th>Date</th>\n",
       "    </tr>\n",
       "  </thead>\n",
       "  <tbody>\n",
       "    <tr>\n",
       "      <th>count</th>\n",
       "      <td>1058.000000</td>\n",
       "      <td>1054.000000</td>\n",
       "      <td>1.096000e+03</td>\n",
       "    </tr>\n",
       "    <tr>\n",
       "      <th>mean</th>\n",
       "      <td>50.213660</td>\n",
       "      <td>49.441831</td>\n",
       "      <td>2.019068e+11</td>\n",
       "    </tr>\n",
       "    <tr>\n",
       "      <th>std</th>\n",
       "      <td>20.693548</td>\n",
       "      <td>28.811276</td>\n",
       "      <td>8.177353e+07</td>\n",
       "    </tr>\n",
       "    <tr>\n",
       "      <th>min</th>\n",
       "      <td>14.112688</td>\n",
       "      <td>0.001163</td>\n",
       "      <td>2.018010e+11</td>\n",
       "    </tr>\n",
       "    <tr>\n",
       "      <th>25%</th>\n",
       "      <td>32.680722</td>\n",
       "      <td>24.776389</td>\n",
       "      <td>2.018100e+11</td>\n",
       "    </tr>\n",
       "    <tr>\n",
       "      <th>50%</th>\n",
       "      <td>50.781486</td>\n",
       "      <td>49.647709</td>\n",
       "      <td>2.019070e+11</td>\n",
       "    </tr>\n",
       "    <tr>\n",
       "      <th>75%</th>\n",
       "      <td>68.095460</td>\n",
       "      <td>74.216397</td>\n",
       "      <td>2.020040e+11</td>\n",
       "    </tr>\n",
       "    <tr>\n",
       "      <th>max</th>\n",
       "      <td>85.957788</td>\n",
       "      <td>99.889261</td>\n",
       "      <td>2.020123e+11</td>\n",
       "    </tr>\n",
       "  </tbody>\n",
       "</table>\n",
       "</div>"
      ],
      "text/plain": [
       "       Temp_Average_F       PRECIP          Date\n",
       "count     1058.000000  1054.000000  1.096000e+03\n",
       "mean        50.213660    49.441831  2.019068e+11\n",
       "std         20.693548    28.811276  8.177353e+07\n",
       "min         14.112688     0.001163  2.018010e+11\n",
       "25%         32.680722    24.776389  2.018100e+11\n",
       "50%         50.781486    49.647709  2.019070e+11\n",
       "75%         68.095460    74.216397  2.020040e+11\n",
       "max         85.957788    99.889261  2.020123e+11"
      ]
     },
     "execution_count": 16,
     "metadata": {},
     "output_type": "execute_result"
    }
   ],
   "source": [
    "data.describe()"
   ]
  },
  {
   "cell_type": "markdown",
   "metadata": {},
   "source": [
    "Here we can see that there are varying number of observations per column (look at the `count` row above), because some of the columns have missing values."
   ]
  },
  {
   "cell_type": "markdown",
   "metadata": {},
   "source": [
    "## Using your own functions in pandas \n",
    "\n",
    "Now it's again time to convert temperatures from Fahrenheit to Celsius! Yes, we have already done this many times before, but this time we will learn how to apply our own functions to data in a pandas DataFrame.\n",
    "\n",
    "First, we will define a function for the temperature conversion, and then we will apply this function for each Fahrenheit value on each row of the DataFrame. The output celsius values will be stored in a new column called `TEMP_C`.\n",
    "\n",
    "To begin we will see how we can apply the function row-by-row using a `for` loop and then we will learn how to apply the function to all rows more efficiently all at once.\n",
    "\n",
    "### Defining the function\n",
    "\n",
    "For both of these approaches, we first need to define our function to convert temperature from Fahrenheit to Celsius."
   ]
  },
  {
   "cell_type": "code",
   "execution_count": 17,
   "metadata": {},
   "outputs": [],
   "source": [
    "def fahr_to_celsius(temp_fahrenheit):\n",
    "    \"\"\"Function to convert Fahrenheit temperature into Celsius.\n",
    "\n",
    "    Parameters\n",
    "    ----------\n",
    "\n",
    "    temp_fahrenheit: int | float\n",
    "        Input temperature in Fahrenheit (should be a number)\n",
    "\n",
    "    Returns\n",
    "    -------\n",
    "\n",
    "    Temperature in Celsius (float)\n",
    "    \"\"\"\n",
    "\n",
    "    # Convert the Fahrenheit into Celsius\n",
    "    converted_temp = (temp_fahrenheit - 32) / 1.8\n",
    "\n",
    "    return converted_temp"
   ]
  },
  {
   "cell_type": "markdown",
   "metadata": {},
   "source": [
    "To make sure everything is working properly, let's test the function with a known value."
   ]
  },
  {
   "cell_type": "code",
   "execution_count": 18,
   "metadata": {},
   "outputs": [
    {
     "data": {
      "text/plain": [
       "0.0"
      ]
     },
     "execution_count": 18,
     "metadata": {},
     "output_type": "execute_result"
    }
   ],
   "source": [
    "fahr_to_celsius(32)"
   ]
  },
  {
   "cell_type": "markdown",
   "metadata": {},
   "source": [
    "Let's also print out the first rows of our data frame to see our input data before further processing."
   ]
  },
  {
   "cell_type": "code",
   "execution_count": 19,
   "metadata": {},
   "outputs": [
    {
     "data": {
      "text/html": [
       "<div>\n",
       "<style scoped>\n",
       "    .dataframe tbody tr th:only-of-type {\n",
       "        vertical-align: middle;\n",
       "    }\n",
       "\n",
       "    .dataframe tbody tr th {\n",
       "        vertical-align: top;\n",
       "    }\n",
       "\n",
       "    .dataframe thead th {\n",
       "        text-align: right;\n",
       "    }\n",
       "</style>\n",
       "<table border=\"1\" class=\"dataframe\">\n",
       "  <thead>\n",
       "    <tr style=\"text-align: right;\">\n",
       "      <th></th>\n",
       "      <th>Temp_Average_F</th>\n",
       "      <th>PRECIP</th>\n",
       "      <th>Location</th>\n",
       "      <th>Date</th>\n",
       "    </tr>\n",
       "  </thead>\n",
       "  <tbody>\n",
       "    <tr>\n",
       "      <th>0</th>\n",
       "      <td>82.530449</td>\n",
       "      <td>35.871553</td>\n",
       "      <td>Stockholm</td>\n",
       "      <td>201801010926</td>\n",
       "    </tr>\n",
       "    <tr>\n",
       "      <th>1</th>\n",
       "      <td>60.016636</td>\n",
       "      <td>80.443721</td>\n",
       "      <td>Stockholm</td>\n",
       "      <td>201801020720</td>\n",
       "    </tr>\n",
       "    <tr>\n",
       "      <th>2</th>\n",
       "      <td>76.490117</td>\n",
       "      <td>27.875987</td>\n",
       "      <td>Stockholm</td>\n",
       "      <td>201801030828</td>\n",
       "    </tr>\n",
       "    <tr>\n",
       "      <th>3</th>\n",
       "      <td>46.741270</td>\n",
       "      <td>21.070496</td>\n",
       "      <td>Stockholm</td>\n",
       "      <td>201801041432</td>\n",
       "    </tr>\n",
       "    <tr>\n",
       "      <th>4</th>\n",
       "      <td>51.122914</td>\n",
       "      <td>95.744802</td>\n",
       "      <td>Stockholm</td>\n",
       "      <td>201801052236</td>\n",
       "    </tr>\n",
       "  </tbody>\n",
       "</table>\n",
       "</div>"
      ],
      "text/plain": [
       "   Temp_Average_F     PRECIP   Location          Date\n",
       "0       82.530449  35.871553  Stockholm  201801010926\n",
       "1       60.016636  80.443721  Stockholm  201801020720\n",
       "2       76.490117  27.875987  Stockholm  201801030828\n",
       "3       46.741270  21.070496  Stockholm  201801041432\n",
       "4       51.122914  95.744802  Stockholm  201801052236"
      ]
     },
     "execution_count": 19,
     "metadata": {},
     "output_type": "execute_result"
    }
   ],
   "source": [
    "data.head()"
   ]
  },
  {
   "cell_type": "markdown",
   "metadata": {},
   "source": [
    "### Iterating over rows\n",
    "\n",
    "We can use the function one row at a time using a `for` loop and the [iterrows()](https://pandas.pydata.org/pandas-docs/stable/reference/api/pandas.DataFrame.iterrows.html) method. This will allow us to iterate row by row using `iterrows()` in a `for` loop to repeat a given process *for each row in a pandas DataFrame*. Please note that iterating over rows is a rather inefficient approach, but it is still useful to understand the logic behind the iteration.\n",
    "\n",
    "When using the `iterrows()` method it is important to understand that `iterrows()` accesses not only the values of one row, but also the `index` of the row as well. \n",
    "\n",
    "Let's start with a simple for loop that goes through each row in our DataFrame.\n",
    "\n",
    "```{note}\n",
    "We use single quotes to select the column `Temp_Average_F` of the row in the example below. This is because using double quotes would result in a `SyntaxError` since Python would interpret this as the end of the string for the `print()` function.\n",
    "```"
   ]
  },
  {
   "cell_type": "code",
   "execution_count": 20,
   "metadata": {
    "jupyter": {
     "outputs_hidden": false
    }
   },
   "outputs": [
    {
     "name": "stdout",
     "output_type": "stream",
     "text": [
      "Index: 0\n",
      "Temp F: 82.53044855047321\n",
      "\n"
     ]
    }
   ],
   "source": [
    "# Iterate over the rows\n",
    "for idx, row in data.iterrows():\n",
    "\n",
    "    # Print the index value\n",
    "    print(f\"Index: {idx}\")\n",
    "\n",
    "    # Print the row\n",
    "    print(f\"Temp F: {row['Temp_Average_F']}\\n\")\n",
    "\n",
    "    break"
   ]
  },
  {
   "cell_type": "markdown",
   "metadata": {},
   "source": [
    "```{admonition} Breaking a loop\n",
    "When developing code in a `for` loop, you do not always need to go through the entire loop in order to test things out. \n",
    "The [break](https://docs.python.org/3/reference/simple_stmts.html#break) statement in Python terminates the current loop whereever it is placed and we can use it here just to check out the values on the first row (based on the first iteration in the `for` loop.\n",
    "This can be helpful when working with a large data file or dataset, because you might not want to print thousands of values to the screen!\n",
    "For more information, check out [this tutorial](https://www.tutorialspoint.com/python/python_break_statement.htm).\n",
    "```"
   ]
  },
  {
   "cell_type": "markdown",
   "metadata": {},
   "source": [
    "We can see that the `idx` variable indeed contains the index value at position 0 (the first row) and the `row` variable contains all the data from that given row stored as a pandas `Series`.\n",
    "\n",
    "Let's now create an empty column `TEMP_C` for the Celsius temperatures and update the values in that column using the `fahr_to_celsius` function we defined earlier."
   ]
  },
  {
   "cell_type": "code",
   "execution_count": 21,
   "metadata": {},
   "outputs": [],
   "source": [
    "# Create an empty float column for the output values\n",
    "data[\"TEMP_C\"] = 0.0\n",
    "\n",
    "# Iterate over the rows\n",
    "for idx, row in data.iterrows():\n",
    "\n",
    "    # Convert the Fahrenheit to Celsius\n",
    "    celsius = fahr_to_celsius(row[\"Temp_Average_F\"])\n",
    "\n",
    "    # Update the value of 'Celsius' column with the converted value\n",
    "    data.at[idx, \"TEMP_C\"] = celsius"
   ]
  },
  {
   "cell_type": "markdown",
   "metadata": {},
   "source": [
    "```{admonition} Reminder: .at or .loc?\n",
    "Here, you could also use `data.loc[idx, new_column] = celsius` to achieve the same result. \n",
    "    \n",
    "If you only need to access a single value in a DataFrame, [DataFrame.at](https://pandas.pydata.org/pandas-docs/stable/reference/api/pandas.DataFrame.at.html) is faster than [DataFrame.loc](https://pandas.pydata.org/pandas-docs/stable/reference/api/pandas.DataFrame.loc.html), which is designed for accessing groups of rows and columns. \n",
    "```"
   ]
  },
  {
   "cell_type": "markdown",
   "metadata": {},
   "source": [
    "Finally, let's see how our DataFrame looks like now after the calculations above."
   ]
  },
  {
   "cell_type": "code",
   "execution_count": 22,
   "metadata": {},
   "outputs": [
    {
     "data": {
      "text/html": [
       "<div>\n",
       "<style scoped>\n",
       "    .dataframe tbody tr th:only-of-type {\n",
       "        vertical-align: middle;\n",
       "    }\n",
       "\n",
       "    .dataframe tbody tr th {\n",
       "        vertical-align: top;\n",
       "    }\n",
       "\n",
       "    .dataframe thead th {\n",
       "        text-align: right;\n",
       "    }\n",
       "</style>\n",
       "<table border=\"1\" class=\"dataframe\">\n",
       "  <thead>\n",
       "    <tr style=\"text-align: right;\">\n",
       "      <th></th>\n",
       "      <th>Temp_Average_F</th>\n",
       "      <th>PRECIP</th>\n",
       "      <th>Location</th>\n",
       "      <th>Date</th>\n",
       "      <th>TEMP_C</th>\n",
       "    </tr>\n",
       "  </thead>\n",
       "  <tbody>\n",
       "    <tr>\n",
       "      <th>0</th>\n",
       "      <td>82.530449</td>\n",
       "      <td>35.871553</td>\n",
       "      <td>Stockholm</td>\n",
       "      <td>201801010926</td>\n",
       "      <td>28.072471</td>\n",
       "    </tr>\n",
       "    <tr>\n",
       "      <th>1</th>\n",
       "      <td>60.016636</td>\n",
       "      <td>80.443721</td>\n",
       "      <td>Stockholm</td>\n",
       "      <td>201801020720</td>\n",
       "      <td>15.564798</td>\n",
       "    </tr>\n",
       "    <tr>\n",
       "      <th>2</th>\n",
       "      <td>76.490117</td>\n",
       "      <td>27.875987</td>\n",
       "      <td>Stockholm</td>\n",
       "      <td>201801030828</td>\n",
       "      <td>24.716732</td>\n",
       "    </tr>\n",
       "    <tr>\n",
       "      <th>3</th>\n",
       "      <td>46.741270</td>\n",
       "      <td>21.070496</td>\n",
       "      <td>Stockholm</td>\n",
       "      <td>201801041432</td>\n",
       "      <td>8.189594</td>\n",
       "    </tr>\n",
       "    <tr>\n",
       "      <th>4</th>\n",
       "      <td>51.122914</td>\n",
       "      <td>95.744802</td>\n",
       "      <td>Stockholm</td>\n",
       "      <td>201801052236</td>\n",
       "      <td>10.623841</td>\n",
       "    </tr>\n",
       "  </tbody>\n",
       "</table>\n",
       "</div>"
      ],
      "text/plain": [
       "   Temp_Average_F     PRECIP   Location          Date     TEMP_C\n",
       "0       82.530449  35.871553  Stockholm  201801010926  28.072471\n",
       "1       60.016636  80.443721  Stockholm  201801020720  15.564798\n",
       "2       76.490117  27.875987  Stockholm  201801030828  24.716732\n",
       "3       46.741270  21.070496  Stockholm  201801041432   8.189594\n",
       "4       51.122914  95.744802  Stockholm  201801052236  10.623841"
      ]
     },
     "execution_count": 22,
     "metadata": {},
     "output_type": "execute_result"
    }
   ],
   "source": [
    "data.head()"
   ]
  },
  {
   "cell_type": "markdown",
   "metadata": {},
   "source": [
    "### Applying the function\n",
    "\n",
    "pandas DataFrames and Series have a dedicated method `.apply()` for applying functions on columns (or rows!). When using `.apply()`, we pass the function name (without parentheses!) as an argument to the `apply()` method. Let's start by applying the function to the `TEMP_F` column that contains the temperature values in Fahrenheit."
   ]
  },
  {
   "cell_type": "code",
   "execution_count": 23,
   "metadata": {},
   "outputs": [
    {
     "data": {
      "text/plain": [
       "0       28.072471\n",
       "1       15.564798\n",
       "2       24.716732\n",
       "3        8.189594\n",
       "4       10.623841\n",
       "          ...    \n",
       "1091    17.508882\n",
       "1092    18.908278\n",
       "1093    17.701297\n",
       "1094    -4.622595\n",
       "1095     1.975824\n",
       "Name: Temp_Average_F, Length: 1096, dtype: float64"
      ]
     },
     "execution_count": 23,
     "metadata": {},
     "output_type": "execute_result"
    }
   ],
   "source": [
    "data[\"Temp_Average_F\"].apply(fahr_to_celsius)"
   ]
  },
  {
   "cell_type": "markdown",
   "metadata": {},
   "source": [
    "The results look logical, so we can store them permanently into the `TEMP_C` column (overwriting the old values)."
   ]
  },
  {
   "cell_type": "code",
   "execution_count": 24,
   "metadata": {},
   "outputs": [],
   "source": [
    "data[\"TEMP_C\"] = data[\"Temp_Average_F\"].apply(fahr_to_celsius)"
   ]
  },
  {
   "cell_type": "markdown",
   "metadata": {},
   "source": [
    "We can also apply the function on several columns at once. Furthermore, we can re-order the dataframe at the same time."
   ]
  },
  {
   "cell_type": "markdown",
   "metadata": {},
   "source": [
    "### Check your understanding\n",
    "\n",
    "Convert `'Temp_Average_F'`, to Celsius by applying the function like we did above and store the outputs to  new columns `'TEMP_C'`."
   ]
  },
  {
   "cell_type": "code",
   "execution_count": 25,
   "metadata": {
    "tags": [
     "hide-cell"
    ]
   },
   "outputs": [],
   "source": [
    "# Solution\n",
    "data[[\"TEMP_C\"]] = data[[\"Temp_Average_F\"]].apply(\n",
    "    fahr_to_celsius\n",
    ")"
   ]
  },
  {
   "cell_type": "markdown",
   "metadata": {},
   "source": [
    "```{note}\n",
    "Applying the function on all columns using `data.apply(fahr_to_celsius)` would not give an error for the data we are using, but the results also do not make much sense for columns where input data are something other than Fahrenheit temperatures.\n",
    "```"
   ]
  },
  {
   "cell_type": "markdown",
   "metadata": {},
   "source": [
    "You might also notice that our conversion function would also allow us to \n",
    "pass one column or the entire dataframe as a parameter. For example, like this: `fahr_to_celsius(data[\"TEMP_F\"])`. However, the code is perhaps easier to follow when using the apply method."
   ]
  },
  {
   "cell_type": "markdown",
   "metadata": {},
   "source": [
    "Let's check now take a look at the DataFrame contents."
   ]
  },
  {
   "cell_type": "code",
   "execution_count": 26,
   "metadata": {
    "jupyter": {
     "outputs_hidden": false
    }
   },
   "outputs": [
    {
     "data": {
      "text/html": [
       "<div>\n",
       "<style scoped>\n",
       "    .dataframe tbody tr th:only-of-type {\n",
       "        vertical-align: middle;\n",
       "    }\n",
       "\n",
       "    .dataframe tbody tr th {\n",
       "        vertical-align: top;\n",
       "    }\n",
       "\n",
       "    .dataframe thead th {\n",
       "        text-align: right;\n",
       "    }\n",
       "</style>\n",
       "<table border=\"1\" class=\"dataframe\">\n",
       "  <thead>\n",
       "    <tr style=\"text-align: right;\">\n",
       "      <th></th>\n",
       "      <th>Temp_Average_F</th>\n",
       "      <th>PRECIP</th>\n",
       "      <th>Location</th>\n",
       "      <th>Date</th>\n",
       "      <th>TEMP_C</th>\n",
       "    </tr>\n",
       "  </thead>\n",
       "  <tbody>\n",
       "    <tr>\n",
       "      <th>0</th>\n",
       "      <td>82.530449</td>\n",
       "      <td>35.871553</td>\n",
       "      <td>Stockholm</td>\n",
       "      <td>201801010926</td>\n",
       "      <td>28.072471</td>\n",
       "    </tr>\n",
       "    <tr>\n",
       "      <th>1</th>\n",
       "      <td>60.016636</td>\n",
       "      <td>80.443721</td>\n",
       "      <td>Stockholm</td>\n",
       "      <td>201801020720</td>\n",
       "      <td>15.564798</td>\n",
       "    </tr>\n",
       "    <tr>\n",
       "      <th>2</th>\n",
       "      <td>76.490117</td>\n",
       "      <td>27.875987</td>\n",
       "      <td>Stockholm</td>\n",
       "      <td>201801030828</td>\n",
       "      <td>24.716732</td>\n",
       "    </tr>\n",
       "    <tr>\n",
       "      <th>3</th>\n",
       "      <td>46.741270</td>\n",
       "      <td>21.070496</td>\n",
       "      <td>Stockholm</td>\n",
       "      <td>201801041432</td>\n",
       "      <td>8.189594</td>\n",
       "    </tr>\n",
       "    <tr>\n",
       "      <th>4</th>\n",
       "      <td>51.122914</td>\n",
       "      <td>95.744802</td>\n",
       "      <td>Stockholm</td>\n",
       "      <td>201801052236</td>\n",
       "      <td>10.623841</td>\n",
       "    </tr>\n",
       "    <tr>\n",
       "      <th>5</th>\n",
       "      <td>49.196954</td>\n",
       "      <td>0.886329</td>\n",
       "      <td>Stockholm</td>\n",
       "      <td>201801061435</td>\n",
       "      <td>9.553863</td>\n",
       "    </tr>\n",
       "    <tr>\n",
       "      <th>6</th>\n",
       "      <td>62.014227</td>\n",
       "      <td>99.782086</td>\n",
       "      <td>Stockholm</td>\n",
       "      <td>201801071827</td>\n",
       "      <td>16.674570</td>\n",
       "    </tr>\n",
       "    <tr>\n",
       "      <th>7</th>\n",
       "      <td>24.054890</td>\n",
       "      <td>67.682130</td>\n",
       "      <td>Stockholm</td>\n",
       "      <td>201801080922</td>\n",
       "      <td>-4.413950</td>\n",
       "    </tr>\n",
       "    <tr>\n",
       "      <th>8</th>\n",
       "      <td>16.158098</td>\n",
       "      <td>82.846930</td>\n",
       "      <td>Stockholm</td>\n",
       "      <td>201801090104</td>\n",
       "      <td>-8.801056</td>\n",
       "    </tr>\n",
       "    <tr>\n",
       "      <th>9</th>\n",
       "      <td>36.170956</td>\n",
       "      <td>29.461940</td>\n",
       "      <td>Stockholm</td>\n",
       "      <td>201801101754</td>\n",
       "      <td>2.317198</td>\n",
       "    </tr>\n",
       "  </tbody>\n",
       "</table>\n",
       "</div>"
      ],
      "text/plain": [
       "   Temp_Average_F     PRECIP   Location          Date     TEMP_C\n",
       "0       82.530449  35.871553  Stockholm  201801010926  28.072471\n",
       "1       60.016636  80.443721  Stockholm  201801020720  15.564798\n",
       "2       76.490117  27.875987  Stockholm  201801030828  24.716732\n",
       "3       46.741270  21.070496  Stockholm  201801041432   8.189594\n",
       "4       51.122914  95.744802  Stockholm  201801052236  10.623841\n",
       "5       49.196954   0.886329  Stockholm  201801061435   9.553863\n",
       "6       62.014227  99.782086  Stockholm  201801071827  16.674570\n",
       "7       24.054890  67.682130  Stockholm  201801080922  -4.413950\n",
       "8       16.158098  82.846930  Stockholm  201801090104  -8.801056\n",
       "9       36.170956  29.461940  Stockholm  201801101754   2.317198"
      ]
     },
     "execution_count": 26,
     "metadata": {},
     "output_type": "execute_result"
    }
   ],
   "source": [
    "data.head(10)"
   ]
  },
  {
   "cell_type": "markdown",
   "metadata": {},
   "source": [
    "```{admonition} Should I use .iterrows() or .apply()?\n",
    "We are teaching the `.iterrows()` method because it helps to understand the structure of a DataFrame and the process of looping through DataFrame rows. However, using `.apply()` is often more efficient in terms of execution time. \n",
    "\n",
    "At this point, the most important thing is that you understand what happens when you are modifying the values in a pandas DataFrame. When doing the course exercises, either of these approaches is ok!\n",
    "```"
   ]
  },
  {
   "cell_type": "markdown",
   "metadata": {},
   "source": [
    "## Parsing dates\n",
    "\n",
    "As part of this lesson, we eventually want to group our data based on month in order to see whether the temperatures in April of 2019 were warmer than average. Currently, the date and time information is stored in the column `Date` (which was originally titled `YR--MODAHRMN`:\n",
    "\n",
    "`YR--MODAHRMN = YEAR-MONTH-DAY-HOUR-MINUTE IN GREENWICH MEAN TIME (GMT)`"
   ]
  },
  {
   "cell_type": "markdown",
   "metadata": {},
   "source": [
    "Let's have a closer look at the date and time information we have by checking the values in that column, and their data type."
   ]
  },
  {
   "cell_type": "code",
   "execution_count": 27,
   "metadata": {},
   "outputs": [
    {
     "data": {
      "text/plain": [
       "0    201801010926\n",
       "1    201801020720\n",
       "2    201801030828\n",
       "3    201801041432\n",
       "4    201801052236\n",
       "5    201801061435\n",
       "6    201801071827\n",
       "7    201801080922\n",
       "8    201801090104\n",
       "9    201801101754\n",
       "Name: Date, dtype: int64"
      ]
     },
     "execution_count": 27,
     "metadata": {},
     "output_type": "execute_result"
    }
   ],
   "source": [
    "data[\"Date\"].head(10)"
   ]
  },
  {
   "cell_type": "code",
   "execution_count": 28,
   "metadata": {},
   "outputs": [
    {
     "data": {
      "text/plain": [
       "1086    202012220051\n",
       "1087    202012230604\n",
       "1088    202012240310\n",
       "1089    202012251837\n",
       "1090    202012261926\n",
       "1091    202012271736\n",
       "1092    202012281946\n",
       "1093    202012292059\n",
       "1094    202012301905\n",
       "1095    202012310348\n",
       "Name: Date, dtype: int64"
      ]
     },
     "execution_count": 28,
     "metadata": {},
     "output_type": "execute_result"
    }
   ],
   "source": [
    "data[\"Date\"].tail(10)"
   ]
  },
  {
   "cell_type": "markdown",
   "metadata": {},
   "source": [
    "The `Date` column contains several observations per day (and even several observations per hour). The timestamp for the first observation is `201801010926`, i.e. from 1st of January 2018 , and the timestamp for the latest observation is the last day of December 2020."
   ]
  },
  {
   "cell_type": "code",
   "execution_count": 29,
   "metadata": {},
   "outputs": [
    {
     "data": {
      "text/plain": [
       "dtype('int64')"
      ]
     },
     "execution_count": 29,
     "metadata": {},
     "output_type": "execute_result"
    }
   ],
   "source": [
    "data[\"Date\"].dtypes"
   ]
  },
  {
   "cell_type": "markdown",
   "metadata": {},
   "source": [
    "The information in this column is stored as integer values.\n",
    "\n",
    "We now want to aggregate the data on a monthly level, and in order to do so we need to \"label\" each row of data based on the month when the record was observed. In order to do this, we need to somehow separate information about the year and month for each row.\n",
    "\n",
    "We can create these \"labels\" by making a new column containing information about the month (including the year, but excluding day, hours, and minutes).\n",
    "\n",
    "Before further taking that step, we should first convert the contents in the `Date` column to a new column with character string values for convenience."
   ]
  },
  {
   "cell_type": "code",
   "execution_count": 30,
   "metadata": {
    "jupyter": {
     "outputs_hidden": false
    }
   },
   "outputs": [],
   "source": [
    "# Convert to string\n",
    "data[\"Date_STR\"] = data[\"Date\"].astype(str)"
   ]
  },
  {
   "cell_type": "markdown",
   "metadata": {},
   "source": [
    "### String slicing\n",
    "\n",
    "Now that we have converted the date and time information into character strings, we next need to \"cut\" the needed information from the [string objects](https://docs.python.org/3/tutorial/introduction.html#strings). If we look at the latest time stamp in the data (`201910012350`), you can see that there is a systematic pattern `YEAR-MONTH-DAY-HOUR-MINUTE`. Four first characters represent the year, and six first characters are year and month!"
   ]
  },
  {
   "cell_type": "code",
   "execution_count": 31,
   "metadata": {},
   "outputs": [
    {
     "data": {
      "text/plain": [
       "'201801'"
      ]
     },
     "execution_count": 31,
     "metadata": {},
     "output_type": "execute_result"
    }
   ],
   "source": [
    "date = \"201801010926\" \n",
    "date[0:6]"
   ]
  },
  {
   "cell_type": "markdown",
   "metadata": {},
   "source": [
    "Based on this information, we can slice the correct range of characters from the `TIME_STR` column using the [pandas.Series.str.slice()](https://pandas.pydata.org/pandas-docs/stable/reference/api/pandas.Series.str.slice.html) method."
   ]
  },
  {
   "cell_type": "code",
   "execution_count": 32,
   "metadata": {},
   "outputs": [
    {
     "data": {
      "text/html": [
       "<div>\n",
       "<style scoped>\n",
       "    .dataframe tbody tr th:only-of-type {\n",
       "        vertical-align: middle;\n",
       "    }\n",
       "\n",
       "    .dataframe tbody tr th {\n",
       "        vertical-align: top;\n",
       "    }\n",
       "\n",
       "    .dataframe thead th {\n",
       "        text-align: right;\n",
       "    }\n",
       "</style>\n",
       "<table border=\"1\" class=\"dataframe\">\n",
       "  <thead>\n",
       "    <tr style=\"text-align: right;\">\n",
       "      <th></th>\n",
       "      <th>Temp_Average_F</th>\n",
       "      <th>PRECIP</th>\n",
       "      <th>Location</th>\n",
       "      <th>Date</th>\n",
       "      <th>TEMP_C</th>\n",
       "      <th>Date_STR</th>\n",
       "      <th>YEAR_MONTH</th>\n",
       "    </tr>\n",
       "  </thead>\n",
       "  <tbody>\n",
       "    <tr>\n",
       "      <th>0</th>\n",
       "      <td>82.530449</td>\n",
       "      <td>35.871553</td>\n",
       "      <td>Stockholm</td>\n",
       "      <td>201801010926</td>\n",
       "      <td>28.072471</td>\n",
       "      <td>201801010926</td>\n",
       "      <td>201801</td>\n",
       "    </tr>\n",
       "    <tr>\n",
       "      <th>1</th>\n",
       "      <td>60.016636</td>\n",
       "      <td>80.443721</td>\n",
       "      <td>Stockholm</td>\n",
       "      <td>201801020720</td>\n",
       "      <td>15.564798</td>\n",
       "      <td>201801020720</td>\n",
       "      <td>201801</td>\n",
       "    </tr>\n",
       "    <tr>\n",
       "      <th>2</th>\n",
       "      <td>76.490117</td>\n",
       "      <td>27.875987</td>\n",
       "      <td>Stockholm</td>\n",
       "      <td>201801030828</td>\n",
       "      <td>24.716732</td>\n",
       "      <td>201801030828</td>\n",
       "      <td>201801</td>\n",
       "    </tr>\n",
       "    <tr>\n",
       "      <th>3</th>\n",
       "      <td>46.741270</td>\n",
       "      <td>21.070496</td>\n",
       "      <td>Stockholm</td>\n",
       "      <td>201801041432</td>\n",
       "      <td>8.189594</td>\n",
       "      <td>201801041432</td>\n",
       "      <td>201801</td>\n",
       "    </tr>\n",
       "    <tr>\n",
       "      <th>4</th>\n",
       "      <td>51.122914</td>\n",
       "      <td>95.744802</td>\n",
       "      <td>Stockholm</td>\n",
       "      <td>201801052236</td>\n",
       "      <td>10.623841</td>\n",
       "      <td>201801052236</td>\n",
       "      <td>201801</td>\n",
       "    </tr>\n",
       "  </tbody>\n",
       "</table>\n",
       "</div>"
      ],
      "text/plain": [
       "   Temp_Average_F     PRECIP   Location          Date     TEMP_C  \\\n",
       "0       82.530449  35.871553  Stockholm  201801010926  28.072471   \n",
       "1       60.016636  80.443721  Stockholm  201801020720  15.564798   \n",
       "2       76.490117  27.875987  Stockholm  201801030828  24.716732   \n",
       "3       46.741270  21.070496  Stockholm  201801041432   8.189594   \n",
       "4       51.122914  95.744802  Stockholm  201801052236  10.623841   \n",
       "\n",
       "       Date_STR YEAR_MONTH  \n",
       "0  201801010926     201801  \n",
       "1  201801020720     201801  \n",
       "2  201801030828     201801  \n",
       "3  201801041432     201801  \n",
       "4  201801052236     201801  "
      ]
     },
     "execution_count": 32,
     "metadata": {},
     "output_type": "execute_result"
    }
   ],
   "source": [
    "# Slice the string\n",
    "data[\"YEAR_MONTH\"] = data[\"Date_STR\"].str.slice(start=0, stop=6)\n",
    "\n",
    "# Let's see what we have\n",
    "data.head()"
   ]
  },
  {
   "cell_type": "markdown",
   "metadata": {},
   "source": [
    "Nice! Now we have \"labeled\" the rows based on information about date and time, but only including the year and month in the labels."
   ]
  },
  {
   "cell_type": "markdown",
   "metadata": {},
   "source": [
    "### Check your understanding\n",
    "\n",
    "Create a new column called `'MONTH'` with information about the month of each observation, but excluding the year."
   ]
  },
  {
   "cell_type": "code",
   "execution_count": 33,
   "metadata": {
    "tags": [
     "hide-cell"
    ]
   },
   "outputs": [
    {
     "data": {
      "text/html": [
       "<div>\n",
       "<style scoped>\n",
       "    .dataframe tbody tr th:only-of-type {\n",
       "        vertical-align: middle;\n",
       "    }\n",
       "\n",
       "    .dataframe tbody tr th {\n",
       "        vertical-align: top;\n",
       "    }\n",
       "\n",
       "    .dataframe thead th {\n",
       "        text-align: right;\n",
       "    }\n",
       "</style>\n",
       "<table border=\"1\" class=\"dataframe\">\n",
       "  <thead>\n",
       "    <tr style=\"text-align: right;\">\n",
       "      <th></th>\n",
       "      <th>YEAR_MONTH</th>\n",
       "      <th>MONTH</th>\n",
       "    </tr>\n",
       "  </thead>\n",
       "  <tbody>\n",
       "    <tr>\n",
       "      <th>0</th>\n",
       "      <td>201801</td>\n",
       "      <td>01</td>\n",
       "    </tr>\n",
       "    <tr>\n",
       "      <th>1</th>\n",
       "      <td>201801</td>\n",
       "      <td>01</td>\n",
       "    </tr>\n",
       "    <tr>\n",
       "      <th>2</th>\n",
       "      <td>201801</td>\n",
       "      <td>01</td>\n",
       "    </tr>\n",
       "    <tr>\n",
       "      <th>3</th>\n",
       "      <td>201801</td>\n",
       "      <td>01</td>\n",
       "    </tr>\n",
       "    <tr>\n",
       "      <th>4</th>\n",
       "      <td>201801</td>\n",
       "      <td>01</td>\n",
       "    </tr>\n",
       "    <tr>\n",
       "      <th>...</th>\n",
       "      <td>...</td>\n",
       "      <td>...</td>\n",
       "    </tr>\n",
       "    <tr>\n",
       "      <th>1091</th>\n",
       "      <td>202012</td>\n",
       "      <td>12</td>\n",
       "    </tr>\n",
       "    <tr>\n",
       "      <th>1092</th>\n",
       "      <td>202012</td>\n",
       "      <td>12</td>\n",
       "    </tr>\n",
       "    <tr>\n",
       "      <th>1093</th>\n",
       "      <td>202012</td>\n",
       "      <td>12</td>\n",
       "    </tr>\n",
       "    <tr>\n",
       "      <th>1094</th>\n",
       "      <td>202012</td>\n",
       "      <td>12</td>\n",
       "    </tr>\n",
       "    <tr>\n",
       "      <th>1095</th>\n",
       "      <td>202012</td>\n",
       "      <td>12</td>\n",
       "    </tr>\n",
       "  </tbody>\n",
       "</table>\n",
       "<p>1096 rows × 2 columns</p>\n",
       "</div>"
      ],
      "text/plain": [
       "     YEAR_MONTH MONTH\n",
       "0        201801    01\n",
       "1        201801    01\n",
       "2        201801    01\n",
       "3        201801    01\n",
       "4        201801    01\n",
       "...         ...   ...\n",
       "1091     202012    12\n",
       "1092     202012    12\n",
       "1093     202012    12\n",
       "1094     202012    12\n",
       "1095     202012    12\n",
       "\n",
       "[1096 rows x 2 columns]"
      ]
     },
     "execution_count": 33,
     "metadata": {},
     "output_type": "execute_result"
    }
   ],
   "source": [
    "# Solution\n",
    "# Extract information about month from the TIME_STR column into a new column 'MONTH':\n",
    "data[\"MONTH\"] = data[\"Date_STR\"].str.slice(start=4, stop=6)\n",
    "\n",
    "# Check the result\n",
    "data[[\"YEAR_MONTH\", \"MONTH\"]]"
   ]
  },
  {
   "cell_type": "markdown",
   "metadata": {},
   "source": [
    "## Aggregating data in pandas by grouping\n",
    "\n",
    "Here, we will learn how to use [pandas.DataFrame.groupby](https://pandas.pydata.org/pandas-docs/stable/reference/api/pandas.DataFrame.groupby.html), which is a handy method for combining large amounts of data and computing statistics for subgroups.\n",
    "\n",
    "In our case, we will use the groupby method to calculate the average temperatures for each month through these three steps:\n",
    "\n",
    "  1. Grouping the data based on the year and month\n",
    "  2. Calculating the average for each month (each group) \n",
    "  3. Storing those values into a new DataFrame called `monthly_data`"
   ]
  },
  {
   "cell_type": "markdown",
   "metadata": {},
   "source": [
    "Before we start grouping the data, let's once again see what our data looks like."
   ]
  },
  {
   "cell_type": "code",
   "execution_count": 34,
   "metadata": {},
   "outputs": [
    {
     "name": "stdout",
     "output_type": "stream",
     "text": [
      "number of rows: 1096\n"
     ]
    }
   ],
   "source": [
    "print(f\"number of rows: {len(data)}\")"
   ]
  },
  {
   "cell_type": "code",
   "execution_count": 35,
   "metadata": {},
   "outputs": [
    {
     "data": {
      "text/html": [
       "<div>\n",
       "<style scoped>\n",
       "    .dataframe tbody tr th:only-of-type {\n",
       "        vertical-align: middle;\n",
       "    }\n",
       "\n",
       "    .dataframe tbody tr th {\n",
       "        vertical-align: top;\n",
       "    }\n",
       "\n",
       "    .dataframe thead th {\n",
       "        text-align: right;\n",
       "    }\n",
       "</style>\n",
       "<table border=\"1\" class=\"dataframe\">\n",
       "  <thead>\n",
       "    <tr style=\"text-align: right;\">\n",
       "      <th></th>\n",
       "      <th>Temp_Average_F</th>\n",
       "      <th>PRECIP</th>\n",
       "      <th>Location</th>\n",
       "      <th>Date</th>\n",
       "      <th>TEMP_C</th>\n",
       "      <th>Date_STR</th>\n",
       "      <th>YEAR_MONTH</th>\n",
       "      <th>MONTH</th>\n",
       "    </tr>\n",
       "  </thead>\n",
       "  <tbody>\n",
       "    <tr>\n",
       "      <th>0</th>\n",
       "      <td>82.530449</td>\n",
       "      <td>35.871553</td>\n",
       "      <td>Stockholm</td>\n",
       "      <td>201801010926</td>\n",
       "      <td>28.072471</td>\n",
       "      <td>201801010926</td>\n",
       "      <td>201801</td>\n",
       "      <td>01</td>\n",
       "    </tr>\n",
       "    <tr>\n",
       "      <th>1</th>\n",
       "      <td>60.016636</td>\n",
       "      <td>80.443721</td>\n",
       "      <td>Stockholm</td>\n",
       "      <td>201801020720</td>\n",
       "      <td>15.564798</td>\n",
       "      <td>201801020720</td>\n",
       "      <td>201801</td>\n",
       "      <td>01</td>\n",
       "    </tr>\n",
       "    <tr>\n",
       "      <th>2</th>\n",
       "      <td>76.490117</td>\n",
       "      <td>27.875987</td>\n",
       "      <td>Stockholm</td>\n",
       "      <td>201801030828</td>\n",
       "      <td>24.716732</td>\n",
       "      <td>201801030828</td>\n",
       "      <td>201801</td>\n",
       "      <td>01</td>\n",
       "    </tr>\n",
       "    <tr>\n",
       "      <th>3</th>\n",
       "      <td>46.741270</td>\n",
       "      <td>21.070496</td>\n",
       "      <td>Stockholm</td>\n",
       "      <td>201801041432</td>\n",
       "      <td>8.189594</td>\n",
       "      <td>201801041432</td>\n",
       "      <td>201801</td>\n",
       "      <td>01</td>\n",
       "    </tr>\n",
       "    <tr>\n",
       "      <th>4</th>\n",
       "      <td>51.122914</td>\n",
       "      <td>95.744802</td>\n",
       "      <td>Stockholm</td>\n",
       "      <td>201801052236</td>\n",
       "      <td>10.623841</td>\n",
       "      <td>201801052236</td>\n",
       "      <td>201801</td>\n",
       "      <td>01</td>\n",
       "    </tr>\n",
       "  </tbody>\n",
       "</table>\n",
       "</div>"
      ],
      "text/plain": [
       "   Temp_Average_F     PRECIP   Location          Date     TEMP_C  \\\n",
       "0       82.530449  35.871553  Stockholm  201801010926  28.072471   \n",
       "1       60.016636  80.443721  Stockholm  201801020720  15.564798   \n",
       "2       76.490117  27.875987  Stockholm  201801030828  24.716732   \n",
       "3       46.741270  21.070496  Stockholm  201801041432   8.189594   \n",
       "4       51.122914  95.744802  Stockholm  201801052236  10.623841   \n",
       "\n",
       "       Date_STR YEAR_MONTH MONTH  \n",
       "0  201801010926     201801    01  \n",
       "1  201801020720     201801    01  \n",
       "2  201801030828     201801    01  \n",
       "3  201801041432     201801    01  \n",
       "4  201801052236     201801    01  "
      ]
     },
     "execution_count": 35,
     "metadata": {},
     "output_type": "execute_result"
    }
   ],
   "source": [
    "data.head()"
   ]
  },
  {
   "cell_type": "markdown",
   "metadata": {},
   "source": [
    "We have quite a few rows of weather data. Our goal is to create an aggreated data frame that would have only one row per month.\n",
    "\n",
    "To condense our data to monthly average values we can group our data based on the unique year and month combinations."
   ]
  },
  {
   "cell_type": "code",
   "execution_count": 36,
   "metadata": {},
   "outputs": [],
   "source": [
    "grouped = data.groupby(\"YEAR_MONTH\")"
   ]
  },
  {
   "cell_type": "markdown",
   "metadata": {},
   "source": [
    "````{note}\n",
    "It is also possible to create combinations of years and months on-the-fly when grouping the data:\n",
    "    \n",
    "```python\n",
    "# Group the data \n",
    "grouped = data.groupby(['YEAR', 'MONTH'])\n",
    "```\n",
    "````"
   ]
  },
  {
   "cell_type": "markdown",
   "metadata": {},
   "source": [
    "Now, let's explore the new variable `grouped`."
   ]
  },
  {
   "cell_type": "code",
   "execution_count": 37,
   "metadata": {},
   "outputs": [
    {
     "data": {
      "text/plain": [
       "pandas.core.groupby.generic.DataFrameGroupBy"
      ]
     },
     "execution_count": 37,
     "metadata": {},
     "output_type": "execute_result"
    }
   ],
   "source": [
    "type(grouped)"
   ]
  },
  {
   "cell_type": "code",
   "execution_count": 38,
   "metadata": {},
   "outputs": [
    {
     "data": {
      "text/plain": [
       "36"
      ]
     },
     "execution_count": 38,
     "metadata": {},
     "output_type": "execute_result"
    }
   ],
   "source": [
    "len(grouped)"
   ]
  },
  {
   "cell_type": "markdown",
   "metadata": {},
   "source": [
    "We have a new object with type `DataFrameGroupBy` with 36 groups. In order to understand what just happened, let's also check the number of unique year and month combinations in our data."
   ]
  },
  {
   "cell_type": "code",
   "execution_count": 39,
   "metadata": {},
   "outputs": [
    {
     "data": {
      "text/plain": [
       "36"
      ]
     },
     "execution_count": 39,
     "metadata": {},
     "output_type": "execute_result"
    }
   ],
   "source": [
    "data[\"YEAR_MONTH\"].nunique()"
   ]
  },
  {
   "cell_type": "markdown",
   "metadata": {},
   "source": [
    "Length of the grouped object should be the same as the number of unique values in the column we used for grouping. For each unique value, there is a group of data."
   ]
  },
  {
   "cell_type": "markdown",
   "metadata": {},
   "source": [
    "Let's explore our grouped data even further. \n",
    "\n",
    "We can check the \"names\" of each group."
   ]
  },
  {
   "cell_type": "code",
   "execution_count": 40,
   "metadata": {},
   "outputs": [
    {
     "data": {
      "text/plain": [
       "dict_keys(['201801', '201802', '201803', '201804', '201805', '201806', '201807', '201808', '201809', '201810', '201811', '201812', '201901', '201902', '201903', '201904', '201905', '201906', '201907', '201908', '201909', '201910', '201911', '201912', '202001', '202002', '202003', '202004', '202005', '202006', '202007', '202008', '202009', '202010', '202011', '202012'])"
      ]
     },
     "execution_count": 40,
     "metadata": {},
     "output_type": "execute_result"
    }
   ],
   "source": [
    "# Next line will print out all 601 group \"keys\"\n",
    "# This is commented out here to avoid excess output to the course website\n",
    "grouped.groups.keys()"
   ]
  },
  {
   "cell_type": "markdown",
   "metadata": {},
   "source": [
    "### Accessing data for one group\n",
    "\n",
    "Let us now check the contents for the group representing January 2018 (the name of that group is `201801`. We can get the values of that hour from the grouped object using the `get_group()` method."
   ]
  },
  {
   "cell_type": "code",
   "execution_count": 41,
   "metadata": {
    "jupyter": {
     "outputs_hidden": false
    }
   },
   "outputs": [],
   "source": [
    "# Specify a month (as character string)\n",
    "month = \"201801\"\n",
    "\n",
    "# Select the group\n",
    "group1 = grouped.get_group(month)"
   ]
  },
  {
   "cell_type": "code",
   "execution_count": 42,
   "metadata": {},
   "outputs": [
    {
     "data": {
      "text/html": [
       "<div>\n",
       "<style scoped>\n",
       "    .dataframe tbody tr th:only-of-type {\n",
       "        vertical-align: middle;\n",
       "    }\n",
       "\n",
       "    .dataframe tbody tr th {\n",
       "        vertical-align: top;\n",
       "    }\n",
       "\n",
       "    .dataframe thead th {\n",
       "        text-align: right;\n",
       "    }\n",
       "</style>\n",
       "<table border=\"1\" class=\"dataframe\">\n",
       "  <thead>\n",
       "    <tr style=\"text-align: right;\">\n",
       "      <th></th>\n",
       "      <th>Temp_Average_F</th>\n",
       "      <th>PRECIP</th>\n",
       "      <th>Location</th>\n",
       "      <th>Date</th>\n",
       "      <th>TEMP_C</th>\n",
       "      <th>Date_STR</th>\n",
       "      <th>YEAR_MONTH</th>\n",
       "      <th>MONTH</th>\n",
       "    </tr>\n",
       "  </thead>\n",
       "  <tbody>\n",
       "    <tr>\n",
       "      <th>0</th>\n",
       "      <td>82.530449</td>\n",
       "      <td>35.871553</td>\n",
       "      <td>Stockholm</td>\n",
       "      <td>201801010926</td>\n",
       "      <td>28.072471</td>\n",
       "      <td>201801010926</td>\n",
       "      <td>201801</td>\n",
       "      <td>01</td>\n",
       "    </tr>\n",
       "    <tr>\n",
       "      <th>1</th>\n",
       "      <td>60.016636</td>\n",
       "      <td>80.443721</td>\n",
       "      <td>Stockholm</td>\n",
       "      <td>201801020720</td>\n",
       "      <td>15.564798</td>\n",
       "      <td>201801020720</td>\n",
       "      <td>201801</td>\n",
       "      <td>01</td>\n",
       "    </tr>\n",
       "    <tr>\n",
       "      <th>2</th>\n",
       "      <td>76.490117</td>\n",
       "      <td>27.875987</td>\n",
       "      <td>Stockholm</td>\n",
       "      <td>201801030828</td>\n",
       "      <td>24.716732</td>\n",
       "      <td>201801030828</td>\n",
       "      <td>201801</td>\n",
       "      <td>01</td>\n",
       "    </tr>\n",
       "    <tr>\n",
       "      <th>3</th>\n",
       "      <td>46.741270</td>\n",
       "      <td>21.070496</td>\n",
       "      <td>Stockholm</td>\n",
       "      <td>201801041432</td>\n",
       "      <td>8.189594</td>\n",
       "      <td>201801041432</td>\n",
       "      <td>201801</td>\n",
       "      <td>01</td>\n",
       "    </tr>\n",
       "    <tr>\n",
       "      <th>4</th>\n",
       "      <td>51.122914</td>\n",
       "      <td>95.744802</td>\n",
       "      <td>Stockholm</td>\n",
       "      <td>201801052236</td>\n",
       "      <td>10.623841</td>\n",
       "      <td>201801052236</td>\n",
       "      <td>201801</td>\n",
       "      <td>01</td>\n",
       "    </tr>\n",
       "    <tr>\n",
       "      <th>5</th>\n",
       "      <td>49.196954</td>\n",
       "      <td>0.886329</td>\n",
       "      <td>Stockholm</td>\n",
       "      <td>201801061435</td>\n",
       "      <td>9.553863</td>\n",
       "      <td>201801061435</td>\n",
       "      <td>201801</td>\n",
       "      <td>01</td>\n",
       "    </tr>\n",
       "    <tr>\n",
       "      <th>6</th>\n",
       "      <td>62.014227</td>\n",
       "      <td>99.782086</td>\n",
       "      <td>Stockholm</td>\n",
       "      <td>201801071827</td>\n",
       "      <td>16.674570</td>\n",
       "      <td>201801071827</td>\n",
       "      <td>201801</td>\n",
       "      <td>01</td>\n",
       "    </tr>\n",
       "    <tr>\n",
       "      <th>7</th>\n",
       "      <td>24.054890</td>\n",
       "      <td>67.682130</td>\n",
       "      <td>Stockholm</td>\n",
       "      <td>201801080922</td>\n",
       "      <td>-4.413950</td>\n",
       "      <td>201801080922</td>\n",
       "      <td>201801</td>\n",
       "      <td>01</td>\n",
       "    </tr>\n",
       "    <tr>\n",
       "      <th>8</th>\n",
       "      <td>16.158098</td>\n",
       "      <td>82.846930</td>\n",
       "      <td>Stockholm</td>\n",
       "      <td>201801090104</td>\n",
       "      <td>-8.801056</td>\n",
       "      <td>201801090104</td>\n",
       "      <td>201801</td>\n",
       "      <td>01</td>\n",
       "    </tr>\n",
       "    <tr>\n",
       "      <th>9</th>\n",
       "      <td>36.170956</td>\n",
       "      <td>29.461940</td>\n",
       "      <td>Stockholm</td>\n",
       "      <td>201801101754</td>\n",
       "      <td>2.317198</td>\n",
       "      <td>201801101754</td>\n",
       "      <td>201801</td>\n",
       "      <td>01</td>\n",
       "    </tr>\n",
       "    <tr>\n",
       "      <th>10</th>\n",
       "      <td>64.737015</td>\n",
       "      <td>1.431528</td>\n",
       "      <td>Stockholm</td>\n",
       "      <td>201801110541</td>\n",
       "      <td>18.187231</td>\n",
       "      <td>201801110541</td>\n",
       "      <td>201801</td>\n",
       "      <td>01</td>\n",
       "    </tr>\n",
       "    <tr>\n",
       "      <th>11</th>\n",
       "      <td>28.533449</td>\n",
       "      <td>73.786952</td>\n",
       "      <td>Stockholm</td>\n",
       "      <td>201801121422</td>\n",
       "      <td>-1.925862</td>\n",
       "      <td>201801121422</td>\n",
       "      <td>201801</td>\n",
       "      <td>01</td>\n",
       "    </tr>\n",
       "    <tr>\n",
       "      <th>12</th>\n",
       "      <td>62.487135</td>\n",
       "      <td>83.414460</td>\n",
       "      <td>Stockholm</td>\n",
       "      <td>201801130812</td>\n",
       "      <td>16.937297</td>\n",
       "      <td>201801130812</td>\n",
       "      <td>201801</td>\n",
       "      <td>01</td>\n",
       "    </tr>\n",
       "    <tr>\n",
       "      <th>13</th>\n",
       "      <td>83.833667</td>\n",
       "      <td>74.047613</td>\n",
       "      <td>Stockholm</td>\n",
       "      <td>201801141724</td>\n",
       "      <td>28.796482</td>\n",
       "      <td>201801141724</td>\n",
       "      <td>201801</td>\n",
       "      <td>01</td>\n",
       "    </tr>\n",
       "    <tr>\n",
       "      <th>14</th>\n",
       "      <td>20.760852</td>\n",
       "      <td>14.285029</td>\n",
       "      <td>Stockholm</td>\n",
       "      <td>201801150601</td>\n",
       "      <td>-6.243971</td>\n",
       "      <td>201801150601</td>\n",
       "      <td>201801</td>\n",
       "      <td>01</td>\n",
       "    </tr>\n",
       "    <tr>\n",
       "      <th>15</th>\n",
       "      <td>62.427353</td>\n",
       "      <td>75.342792</td>\n",
       "      <td>Stockholm</td>\n",
       "      <td>201801161557</td>\n",
       "      <td>16.904085</td>\n",
       "      <td>201801161557</td>\n",
       "      <td>201801</td>\n",
       "      <td>01</td>\n",
       "    </tr>\n",
       "    <tr>\n",
       "      <th>16</th>\n",
       "      <td>45.950016</td>\n",
       "      <td>76.892278</td>\n",
       "      <td>Stockholm</td>\n",
       "      <td>201801170135</td>\n",
       "      <td>7.750009</td>\n",
       "      <td>201801170135</td>\n",
       "      <td>201801</td>\n",
       "      <td>01</td>\n",
       "    </tr>\n",
       "    <tr>\n",
       "      <th>17</th>\n",
       "      <td>76.506242</td>\n",
       "      <td>65.854052</td>\n",
       "      <td>Stockholm</td>\n",
       "      <td>201801180148</td>\n",
       "      <td>24.725690</td>\n",
       "      <td>201801180148</td>\n",
       "      <td>201801</td>\n",
       "      <td>01</td>\n",
       "    </tr>\n",
       "    <tr>\n",
       "      <th>18</th>\n",
       "      <td>26.754785</td>\n",
       "      <td>76.611593</td>\n",
       "      <td>Stockholm</td>\n",
       "      <td>201801190509</td>\n",
       "      <td>-2.914008</td>\n",
       "      <td>201801190509</td>\n",
       "      <td>201801</td>\n",
       "      <td>01</td>\n",
       "    </tr>\n",
       "    <tr>\n",
       "      <th>19</th>\n",
       "      <td>63.869069</td>\n",
       "      <td>84.592144</td>\n",
       "      <td>Stockholm</td>\n",
       "      <td>201801201326</td>\n",
       "      <td>17.705038</td>\n",
       "      <td>201801201326</td>\n",
       "      <td>201801</td>\n",
       "      <td>01</td>\n",
       "    </tr>\n",
       "    <tr>\n",
       "      <th>20</th>\n",
       "      <td>74.344301</td>\n",
       "      <td>61.360411</td>\n",
       "      <td>Stockholm</td>\n",
       "      <td>201801211420</td>\n",
       "      <td>23.524612</td>\n",
       "      <td>201801211420</td>\n",
       "      <td>201801</td>\n",
       "      <td>01</td>\n",
       "    </tr>\n",
       "    <tr>\n",
       "      <th>21</th>\n",
       "      <td>82.012224</td>\n",
       "      <td>8.860471</td>\n",
       "      <td>Stockholm</td>\n",
       "      <td>201801221150</td>\n",
       "      <td>27.784569</td>\n",
       "      <td>201801221150</td>\n",
       "      <td>201801</td>\n",
       "      <td>01</td>\n",
       "    </tr>\n",
       "    <tr>\n",
       "      <th>22</th>\n",
       "      <td>63.193858</td>\n",
       "      <td>48.762781</td>\n",
       "      <td>Stockholm</td>\n",
       "      <td>201801231032</td>\n",
       "      <td>17.329921</td>\n",
       "      <td>201801231032</td>\n",
       "      <td>201801</td>\n",
       "      <td>01</td>\n",
       "    </tr>\n",
       "    <tr>\n",
       "      <th>23</th>\n",
       "      <td>49.796583</td>\n",
       "      <td>7.764933</td>\n",
       "      <td>Stockholm</td>\n",
       "      <td>201801240721</td>\n",
       "      <td>9.886991</td>\n",
       "      <td>201801240721</td>\n",
       "      <td>201801</td>\n",
       "      <td>01</td>\n",
       "    </tr>\n",
       "    <tr>\n",
       "      <th>24</th>\n",
       "      <td>58.485001</td>\n",
       "      <td>40.754303</td>\n",
       "      <td>Stockholm</td>\n",
       "      <td>201801250543</td>\n",
       "      <td>14.713890</td>\n",
       "      <td>201801250543</td>\n",
       "      <td>201801</td>\n",
       "      <td>01</td>\n",
       "    </tr>\n",
       "    <tr>\n",
       "      <th>25</th>\n",
       "      <td>76.561159</td>\n",
       "      <td>40.710649</td>\n",
       "      <td>Stockholm</td>\n",
       "      <td>201801261947</td>\n",
       "      <td>24.756199</td>\n",
       "      <td>201801261947</td>\n",
       "      <td>201801</td>\n",
       "      <td>01</td>\n",
       "    </tr>\n",
       "    <tr>\n",
       "      <th>26</th>\n",
       "      <td>55.083902</td>\n",
       "      <td>6.600984</td>\n",
       "      <td>Stockholm</td>\n",
       "      <td>201801271743</td>\n",
       "      <td>12.824390</td>\n",
       "      <td>201801271743</td>\n",
       "      <td>201801</td>\n",
       "      <td>01</td>\n",
       "    </tr>\n",
       "    <tr>\n",
       "      <th>27</th>\n",
       "      <td>16.187868</td>\n",
       "      <td>34.882053</td>\n",
       "      <td>Stockholm</td>\n",
       "      <td>201801281901</td>\n",
       "      <td>-8.784518</td>\n",
       "      <td>201801281901</td>\n",
       "      <td>201801</td>\n",
       "      <td>01</td>\n",
       "    </tr>\n",
       "    <tr>\n",
       "      <th>28</th>\n",
       "      <td>81.028306</td>\n",
       "      <td>11.099810</td>\n",
       "      <td>Stockholm</td>\n",
       "      <td>201801290630</td>\n",
       "      <td>27.237948</td>\n",
       "      <td>201801290630</td>\n",
       "      <td>201801</td>\n",
       "      <td>01</td>\n",
       "    </tr>\n",
       "    <tr>\n",
       "      <th>29</th>\n",
       "      <td>63.645926</td>\n",
       "      <td>80.823521</td>\n",
       "      <td>Stockholm</td>\n",
       "      <td>201801300817</td>\n",
       "      <td>17.581070</td>\n",
       "      <td>201801300817</td>\n",
       "      <td>201801</td>\n",
       "      <td>01</td>\n",
       "    </tr>\n",
       "    <tr>\n",
       "      <th>30</th>\n",
       "      <td>62.708964</td>\n",
       "      <td>94.768803</td>\n",
       "      <td>Stockholm</td>\n",
       "      <td>201801310856</td>\n",
       "      <td>17.060535</td>\n",
       "      <td>201801310856</td>\n",
       "      <td>201801</td>\n",
       "      <td>01</td>\n",
       "    </tr>\n",
       "  </tbody>\n",
       "</table>\n",
       "</div>"
      ],
      "text/plain": [
       "    Temp_Average_F     PRECIP   Location          Date     TEMP_C  \\\n",
       "0        82.530449  35.871553  Stockholm  201801010926  28.072471   \n",
       "1        60.016636  80.443721  Stockholm  201801020720  15.564798   \n",
       "2        76.490117  27.875987  Stockholm  201801030828  24.716732   \n",
       "3        46.741270  21.070496  Stockholm  201801041432   8.189594   \n",
       "4        51.122914  95.744802  Stockholm  201801052236  10.623841   \n",
       "5        49.196954   0.886329  Stockholm  201801061435   9.553863   \n",
       "6        62.014227  99.782086  Stockholm  201801071827  16.674570   \n",
       "7        24.054890  67.682130  Stockholm  201801080922  -4.413950   \n",
       "8        16.158098  82.846930  Stockholm  201801090104  -8.801056   \n",
       "9        36.170956  29.461940  Stockholm  201801101754   2.317198   \n",
       "10       64.737015   1.431528  Stockholm  201801110541  18.187231   \n",
       "11       28.533449  73.786952  Stockholm  201801121422  -1.925862   \n",
       "12       62.487135  83.414460  Stockholm  201801130812  16.937297   \n",
       "13       83.833667  74.047613  Stockholm  201801141724  28.796482   \n",
       "14       20.760852  14.285029  Stockholm  201801150601  -6.243971   \n",
       "15       62.427353  75.342792  Stockholm  201801161557  16.904085   \n",
       "16       45.950016  76.892278  Stockholm  201801170135   7.750009   \n",
       "17       76.506242  65.854052  Stockholm  201801180148  24.725690   \n",
       "18       26.754785  76.611593  Stockholm  201801190509  -2.914008   \n",
       "19       63.869069  84.592144  Stockholm  201801201326  17.705038   \n",
       "20       74.344301  61.360411  Stockholm  201801211420  23.524612   \n",
       "21       82.012224   8.860471  Stockholm  201801221150  27.784569   \n",
       "22       63.193858  48.762781  Stockholm  201801231032  17.329921   \n",
       "23       49.796583   7.764933  Stockholm  201801240721   9.886991   \n",
       "24       58.485001  40.754303  Stockholm  201801250543  14.713890   \n",
       "25       76.561159  40.710649  Stockholm  201801261947  24.756199   \n",
       "26       55.083902   6.600984  Stockholm  201801271743  12.824390   \n",
       "27       16.187868  34.882053  Stockholm  201801281901  -8.784518   \n",
       "28       81.028306  11.099810  Stockholm  201801290630  27.237948   \n",
       "29       63.645926  80.823521  Stockholm  201801300817  17.581070   \n",
       "30       62.708964  94.768803  Stockholm  201801310856  17.060535   \n",
       "\n",
       "        Date_STR YEAR_MONTH MONTH  \n",
       "0   201801010926     201801    01  \n",
       "1   201801020720     201801    01  \n",
       "2   201801030828     201801    01  \n",
       "3   201801041432     201801    01  \n",
       "4   201801052236     201801    01  \n",
       "5   201801061435     201801    01  \n",
       "6   201801071827     201801    01  \n",
       "7   201801080922     201801    01  \n",
       "8   201801090104     201801    01  \n",
       "9   201801101754     201801    01  \n",
       "10  201801110541     201801    01  \n",
       "11  201801121422     201801    01  \n",
       "12  201801130812     201801    01  \n",
       "13  201801141724     201801    01  \n",
       "14  201801150601     201801    01  \n",
       "15  201801161557     201801    01  \n",
       "16  201801170135     201801    01  \n",
       "17  201801180148     201801    01  \n",
       "18  201801190509     201801    01  \n",
       "19  201801201326     201801    01  \n",
       "20  201801211420     201801    01  \n",
       "21  201801221150     201801    01  \n",
       "22  201801231032     201801    01  \n",
       "23  201801240721     201801    01  \n",
       "24  201801250543     201801    01  \n",
       "25  201801261947     201801    01  \n",
       "26  201801271743     201801    01  \n",
       "27  201801281901     201801    01  \n",
       "28  201801290630     201801    01  \n",
       "29  201801300817     201801    01  \n",
       "30  201801310856     201801    01  "
      ]
     },
     "execution_count": 42,
     "metadata": {},
     "output_type": "execute_result"
    }
   ],
   "source": [
    "# Let's see what we have\n",
    "group1"
   ]
  },
  {
   "cell_type": "markdown",
   "metadata": {},
   "source": [
    "Ahaa! As we can see, a single group contains a DataFrame with values only for that specific month and year. Let's check the DataType of this group."
   ]
  },
  {
   "cell_type": "code",
   "execution_count": 43,
   "metadata": {},
   "outputs": [
    {
     "data": {
      "text/plain": [
       "pandas.core.frame.DataFrame"
      ]
     },
     "execution_count": 43,
     "metadata": {},
     "output_type": "execute_result"
    }
   ],
   "source": [
    "type(group1)"
   ]
  },
  {
   "cell_type": "markdown",
   "metadata": {},
   "source": [
    "So, as noted above, one group is a pandas DataFrame! This is really useful, because we can now use all the familiar DataFrame methods for calculating statistics, etc. for this specific group. We can, for example, calculate the average values for all variables using the statistical functions that we have seen already (e.g. mean, std, min, max, median, etc.).\n",
    "\n",
    "We can do that by using the `mean()` function that we already did during Lesson 5. Let's calculate the mean for following attributes all at once:\n",
    "\n",
    "- `PRECIP`\n",
    "- `Temp_Average_F`\n",
    "- `TEMP_C`\n",
    "- `MONTH`\n"
   ]
  },
  {
   "cell_type": "code",
   "execution_count": 44,
   "metadata": {
    "jupyter": {
     "outputs_hidden": false
    }
   },
   "outputs": [
    {
     "name": "stdout",
     "output_type": "stream",
     "text": [
      "PRECIP            51.752037\n",
      "Temp_Average_F    55.593683\n",
      "TEMP_C            13.107602\n",
      "dtype: float64\n"
     ]
    }
   ],
   "source": [
    "# Specify the columns that will be part of the calculation\n",
    "mean_cols = [\"PRECIP\", \"Temp_Average_F\", \"TEMP_C\"]\n",
    "\n",
    "# Calculate the mean values all at one go\n",
    "mean_values = group1[mean_cols].mean()\n",
    "\n",
    "# Let's see what we have\n",
    "print(mean_values)"
   ]
  },
  {
   "cell_type": "markdown",
   "metadata": {},
   "source": [
    "Above, we saw how you can access data from a single group. In order to get information about all groups (all months) we can use a `for` loop or methods available in the grouped object.\n",
    "\n",
    "### For loops and grouped objects\n",
    "\n",
    "When iterating over the groups in our `DataFrameGroupBy` object it is important to understand that a single group in our `DataFrameGroupBy` actually contains not only the actual values, but also information about the `key` that was used to do the grouping. Hence, when iterating over the data we need to assign the `key` and the values into separate variables.\n",
    "\n",
    "So, let's see how we can iterate over the groups and print the key and the data from a single group (again using `break` to only see what is happening for the first group)."
   ]
  },
  {
   "cell_type": "code",
   "execution_count": 45,
   "metadata": {
    "jupyter": {
     "outputs_hidden": false
    }
   },
   "outputs": [
    {
     "name": "stdout",
     "output_type": "stream",
     "text": [
      "Key:\n",
      " 201801\n",
      "\n",
      "First rows of data in this group:\n",
      "    Temp_Average_F     PRECIP   Location          Date     TEMP_C  \\\n",
      "0       82.530449  35.871553  Stockholm  201801010926  28.072471   \n",
      "1       60.016636  80.443721  Stockholm  201801020720  15.564798   \n",
      "2       76.490117  27.875987  Stockholm  201801030828  24.716732   \n",
      "3       46.741270  21.070496  Stockholm  201801041432   8.189594   \n",
      "4       51.122914  95.744802  Stockholm  201801052236  10.623841   \n",
      "\n",
      "       Date_STR YEAR_MONTH MONTH  \n",
      "0  201801010926     201801    01  \n",
      "1  201801020720     201801    01  \n",
      "2  201801030828     201801    01  \n",
      "3  201801041432     201801    01  \n",
      "4  201801052236     201801    01  \n"
     ]
    }
   ],
   "source": [
    "# Iterate over groups\n",
    "for key, group in grouped:\n",
    "    # Print key and group\n",
    "    print(f\"Key:\\n {key}\")\n",
    "    print(f\"\\nFirst rows of data in this group:\\n {group.head()}\")\n",
    "\n",
    "    # Stop iteration with break command\n",
    "    break"
   ]
  },
  {
   "cell_type": "markdown",
   "metadata": {},
   "source": [
    "OK, so from here we can see that the `key` contains the name of the group `YEARMONTH`.\n",
    "\n",
    "Let's build on this and see how we can create a DataFrame where we calculate the mean values for all those weather attributes that we were interested in. We will repeat some of the earlier steps here so you can see and better understand what is happening."
   ]
  },
  {
   "cell_type": "code",
   "execution_count": 46,
   "metadata": {},
   "outputs": [],
   "source": [
    "# Create an empty DataFrame for the aggregated values\n",
    "monthly_data = pd.DataFrame()\n",
    "\n",
    "# The columns that we want to aggregate\n",
    "mean_cols = [\"PRECIP\", \"Temp_Average_F\", \"TEMP_C\"]\n",
    "\n",
    "# Iterate over the groups\n",
    "for key, group in grouped:\n",
    "\n",
    "    # Calculate mean\n",
    "    mean_values = group[mean_cols].mean()\n",
    "\n",
    "    # Add the ´key´ (i.e. the date+time information) into the aggregated values\n",
    "    mean_values[\"YEAR_MONTH\"] = key\n",
    "    \n",
    "    # Convert the mean_values series to a DataFrame and make it have a row orientation\n",
    "    row = mean_values.to_frame().transpose()\n",
    "\n",
    "    # Concatenate the aggregated values into the monthly_data DataFrame\n",
    "    monthly_data = pd.concat([monthly_data, row], ignore_index=True)"
   ]
  },
  {
   "cell_type": "markdown",
   "metadata": {},
   "source": [
    "```{note}\n",
    "You can find a slightly more efficient approach for this same kind of aggregation in [Chapter 3 of the *Python for Geographic Data Analysis*](https://python-gis-book.readthedocs.io/en/latest/part1/chapter-03/nb/02-data-analysis.html#aggregating-data-with-groupby) textbook.\n",
    "```\n",
    "\n",
    "Now, let us see what we have."
   ]
  },
  {
   "cell_type": "code",
   "execution_count": 47,
   "metadata": {
    "jupyter": {
     "outputs_hidden": false
    }
   },
   "outputs": [
    {
     "name": "stdout",
     "output_type": "stream",
     "text": [
      "       PRECIP Temp_Average_F     TEMP_C YEAR_MONTH\n",
      "0   51.752037      55.593683  13.107602     201801\n",
      "1   43.766144      54.020065  12.233369     201802\n",
      "2   42.325834      47.131625   8.406458     201803\n",
      "3   53.491379      48.403075   9.112819     201804\n",
      "4    47.47626       49.51247    9.72915     201805\n",
      "5   42.794952      45.691624   7.606458     201806\n",
      "6   46.533055      53.371777   11.87321     201807\n",
      "7   49.014621      53.210426   11.78357     201808\n",
      "8   51.166668      50.652846  10.362692     201809\n",
      "9   52.380422      46.579807   8.099893     201810\n",
      "10    47.7975      46.149822   7.861012     201811\n",
      "11  50.233052      52.425543  11.347524     201812\n",
      "12  49.028969      42.354704   5.752613     201901\n",
      "13  53.266617      53.158862  11.754924     201902\n",
      "14  60.036894      56.946362   13.85909     201903\n",
      "15  55.804043       46.95061   8.305895     201904\n",
      "16  43.928275      50.676144  10.375635     201905\n",
      "17  44.651632      49.223029    9.56835     201906\n",
      "18  52.489306      49.490115   9.716731     201907\n",
      "19  46.849936      49.202995    9.55722     201908\n",
      "20  53.872132      46.895053   8.275029     201909\n",
      "21  44.554652      52.526245  11.403469     201910\n",
      "22   50.71363      55.337354  12.965197     201911\n",
      "23  42.981964      49.266922   9.592734     201912\n",
      "24  47.521618      51.831812  11.017673     202001\n",
      "25  47.629245      55.248669  12.915927     202002\n",
      "26  52.145723      49.116639   9.509244     202003\n",
      "27  46.396527      54.898495  12.721386     202004\n",
      "28  54.056463      40.061578   4.478654     202005\n",
      "29  51.237277      48.518606   9.177003     202006\n",
      "30  56.248912       46.23941   7.910783     202007\n",
      "31  52.958171      51.860536  11.033631     202008\n",
      "32  50.865527      46.932391   8.295773     202009\n",
      "33  42.251994      50.825503  10.458613     202010\n",
      "34  56.496194      52.125395  11.180775     202011\n",
      "35  47.019642      55.662573  13.145874     202012\n"
     ]
    }
   ],
   "source": [
    "print(monthly_data)"
   ]
  },
  {
   "cell_type": "markdown",
   "metadata": {},
   "source": [
    "Awesome! Now we have aggregated our data and we have a new DataFrame called `monthly_data` where we have mean values for each month in the data set."
   ]
  },
  {
   "cell_type": "markdown",
   "metadata": {},
   "source": [
    "## Detecting warm months\n",
    "\n",
    "Now that we have aggregated our data on monthly level, all we need to do is to sort our results in order to check which years had the warmest April temperatures. A simple approach is to select all Aprils from the data, group the data and check which group(s) have the highest mean value.\n",
    "\n",
    "We can start this by selecting all records that are from April (regardless of the year)."
   ]
  },
  {
   "cell_type": "code",
   "execution_count": 48,
   "metadata": {},
   "outputs": [],
   "source": [
    "Julys = data[data[\"MONTH\"] == \"07\"]"
   ]
  },
  {
   "cell_type": "markdown",
   "metadata": {},
   "source": [
    "Next, we can take a subset of columns that might contain interesting information."
   ]
  },
  {
   "cell_type": "code",
   "execution_count": 49,
   "metadata": {},
   "outputs": [],
   "source": [
    "Julys = Julys[[ \"Temp_Average_F\", \"TEMP_C\", \"YEAR_MONTH\"]]"
   ]
  },
  {
   "cell_type": "markdown",
   "metadata": {},
   "source": [
    "We can group by year and month."
   ]
  },
  {
   "cell_type": "code",
   "execution_count": 50,
   "metadata": {},
   "outputs": [],
   "source": [
    "grouped = Julys.groupby(by=\"YEAR_MONTH\")"
   ]
  },
  {
   "cell_type": "markdown",
   "metadata": {},
   "source": [
    "And then we can calculate the mean for each group."
   ]
  },
  {
   "cell_type": "code",
   "execution_count": 51,
   "metadata": {},
   "outputs": [],
   "source": [
    "monthly_mean = grouped.mean()"
   ]
  },
  {
   "cell_type": "code",
   "execution_count": 52,
   "metadata": {},
   "outputs": [
    {
     "data": {
      "text/html": [
       "<div>\n",
       "<style scoped>\n",
       "    .dataframe tbody tr th:only-of-type {\n",
       "        vertical-align: middle;\n",
       "    }\n",
       "\n",
       "    .dataframe tbody tr th {\n",
       "        vertical-align: top;\n",
       "    }\n",
       "\n",
       "    .dataframe thead th {\n",
       "        text-align: right;\n",
       "    }\n",
       "</style>\n",
       "<table border=\"1\" class=\"dataframe\">\n",
       "  <thead>\n",
       "    <tr style=\"text-align: right;\">\n",
       "      <th></th>\n",
       "      <th>Temp_Average_F</th>\n",
       "      <th>TEMP_C</th>\n",
       "    </tr>\n",
       "    <tr>\n",
       "      <th>YEAR_MONTH</th>\n",
       "      <th></th>\n",
       "      <th></th>\n",
       "    </tr>\n",
       "  </thead>\n",
       "  <tbody>\n",
       "    <tr>\n",
       "      <th>201807</th>\n",
       "      <td>53.371777</td>\n",
       "      <td>11.873210</td>\n",
       "    </tr>\n",
       "    <tr>\n",
       "      <th>201907</th>\n",
       "      <td>49.490115</td>\n",
       "      <td>9.716731</td>\n",
       "    </tr>\n",
       "    <tr>\n",
       "      <th>202007</th>\n",
       "      <td>46.239410</td>\n",
       "      <td>7.910783</td>\n",
       "    </tr>\n",
       "  </tbody>\n",
       "</table>\n",
       "</div>"
      ],
      "text/plain": [
       "            Temp_Average_F     TEMP_C\n",
       "YEAR_MONTH                           \n",
       "201807           53.371777  11.873210\n",
       "201907           49.490115   9.716731\n",
       "202007           46.239410   7.910783"
      ]
     },
     "execution_count": 52,
     "metadata": {},
     "output_type": "execute_result"
    }
   ],
   "source": [
    "monthly_mean.head()"
   ]
  },
  {
   "cell_type": "markdown",
   "metadata": {},
   "source": [
    "Finally, we can sort and check the highest temperature values. We can sort the data frame in a descending order to do this."
   ]
  },
  {
   "cell_type": "code",
   "execution_count": 53,
   "metadata": {},
   "outputs": [
    {
     "data": {
      "text/html": [
       "<div>\n",
       "<style scoped>\n",
       "    .dataframe tbody tr th:only-of-type {\n",
       "        vertical-align: middle;\n",
       "    }\n",
       "\n",
       "    .dataframe tbody tr th {\n",
       "        vertical-align: top;\n",
       "    }\n",
       "\n",
       "    .dataframe thead th {\n",
       "        text-align: right;\n",
       "    }\n",
       "</style>\n",
       "<table border=\"1\" class=\"dataframe\">\n",
       "  <thead>\n",
       "    <tr style=\"text-align: right;\">\n",
       "      <th></th>\n",
       "      <th>Temp_Average_F</th>\n",
       "      <th>TEMP_C</th>\n",
       "    </tr>\n",
       "    <tr>\n",
       "      <th>YEAR_MONTH</th>\n",
       "      <th></th>\n",
       "      <th></th>\n",
       "    </tr>\n",
       "  </thead>\n",
       "  <tbody>\n",
       "    <tr>\n",
       "      <th>201807</th>\n",
       "      <td>53.371777</td>\n",
       "      <td>11.873210</td>\n",
       "    </tr>\n",
       "    <tr>\n",
       "      <th>201907</th>\n",
       "      <td>49.490115</td>\n",
       "      <td>9.716731</td>\n",
       "    </tr>\n",
       "    <tr>\n",
       "      <th>202007</th>\n",
       "      <td>46.239410</td>\n",
       "      <td>7.910783</td>\n",
       "    </tr>\n",
       "  </tbody>\n",
       "</table>\n",
       "</div>"
      ],
      "text/plain": [
       "            Temp_Average_F     TEMP_C\n",
       "YEAR_MONTH                           \n",
       "201807           53.371777  11.873210\n",
       "201907           49.490115   9.716731\n",
       "202007           46.239410   7.910783"
      ]
     },
     "execution_count": 53,
     "metadata": {},
     "output_type": "execute_result"
    }
   ],
   "source": [
    "monthly_mean.sort_values(by=\"TEMP_C\", ascending=False).head(10)"
   ]
  },
  {
   "cell_type": "markdown",
   "metadata": {},
   "source": [
    "So, how did July 2018 rank at the Stockholm observation station? "
   ]
  },
  {
   "cell_type": "markdown",
   "metadata": {},
   "source": [
    "## Repeating the data analysis with a larger dataset\n",
    "\n",
    "To wrap up today's lesson, let's repeat the data analysis steps above for all the available data we have (!). First, it would be good to confirm the path to the directory where all the input data are located.\n",
    "\n",
    "The idea is, that we will repeat the analysis process for each input file using a (rather long) for loop! Here we have all the main analysis steps with some additional output info, all in one long code cell."
   ]
  },
  {
   "cell_type": "code",
   "execution_count": 54,
   "metadata": {},
   "outputs": [
    {
     "name": "stdout",
     "output_type": "stream",
     "text": [
      "Location: Stockholm\n",
      "NUMBER OF OBSERVATIONS: 1096\n",
      "            Temp_Average_F     TEMP_C\n",
      "YEAR MONTH                           \n",
      "2018 7           53.371777  11.873210\n",
      "2019 7           49.490115   9.716731\n",
      "2020 7           46.239410   7.910783\n",
      "\n",
      "\n"
     ]
    }
   ],
   "source": [
    "# Read selected columns of  data using varying amount of spaces as separator and specifying * characters as NoData values\n",
    "data = pd.read_csv(\n",
    "    fp,\n",
    "    delim_whitespace=True,\n",
    "    usecols=[\"YRMODAHRMN\",\"Temperature\", \"Precipitation\",\"City\"],\n",
    "    na_values=[\"*\", \"**\", \"***\", \"****\", \"*****\", \"******\"],\n",
    ")\n",
    "\n",
    "# Rename the columns\n",
    "new_names = {\"Temperature\": \"Temp_Average_F\", \"Precipitation\": \"PRECIP\", \"City\": \"Location\",\"YRMODAHRMN\": \"Date\"}\n",
    "\n",
    "data = data.rename(columns=new_names)\n",
    "\n",
    "# Print info about the current input file:\n",
    "print(f\"Location: {data.at[0, 'Location']}\")\n",
    "print(f\"NUMBER OF OBSERVATIONS: {len(data)}\")\n",
    "\n",
    "# Create column\n",
    "col_name = \"TEMP_C\"\n",
    "data[col_name] = None\n",
    "\n",
    "# Convert tempetarues from Fahrenheits to Celsius\n",
    "data[\"TEMP_C\"] = data[\"Temp_Average_F\"].apply(fahr_to_celsius)\n",
    "\n",
    "# Convert TIME to string\n",
    "data[\"Date_STR\"] = data[\"Date\"].astype(str)\n",
    "\n",
    "# Parse year and month\n",
    "data[\"MONTH\"] = data[\"Date_STR\"].str.slice(start=5, stop=6).astype(int)\n",
    "data[\"YEAR\"] = data[\"Date_STR\"].str.slice(start=0, stop=4).astype(int)\n",
    "\n",
    "# Extract observations for the months of April\n",
    "Julys = data[data[\"MONTH\"] == 7]\n",
    "\n",
    "# Take a subset of columns\n",
    "Julys = Julys[[ \"Temp_Average_F\", \"TEMP_C\", \"YEAR\", \"MONTH\"]]\n",
    "\n",
    "# Group by year and month\n",
    "grouped = Julys.groupby(by=[\"YEAR\", \"MONTH\"])\n",
    "\n",
    "# Get mean values for each group\n",
    "monthly_mean = grouped.mean()\n",
    "\n",
    "# Print info\n",
    "print(monthly_mean.sort_values(by=\"TEMP_C\", ascending=False).head(5))\n",
    "print(\"\\n\")"
   ]
  },
  {
   "cell_type": "markdown",
   "metadata": {},
   "source": [
    "At this point we will use the `glob()` function from the module `glob` to list our input files. glob is a handy function for finding files in a directrory that match a given pattern, for example."
   ]
  },
  {
   "cell_type": "code",
   "execution_count": 55,
   "metadata": {},
   "outputs": [],
   "source": [
    "import glob"
   ]
  },
  {
   "cell_type": "code",
   "execution_count": 62,
   "metadata": {},
   "outputs": [],
   "source": [
    "file_list = glob.glob(r\"D:/Teaching_Development/Python_1_course_VT24/missing lecture/dataset/*txt\")"
   ]
  },
  {
   "cell_type": "markdown",
   "metadata": {},
   "source": [
    "```{note}\n",
    "Note that we're using the \\* character as a wildcard, so any file that starts with `data/0` and ends with `txt` will be added to the list of files we will iterate over. We specifically use `data/0` as the starting part of the file names to avoid having our metadata files included in the list!\n",
    "```\n",
    "\n",
    "````{note}\n",
    "If you are using Jupyter Lab installed on your own computer, then the `file_list` variable you should use is defined below:\n",
    "\n",
    "```python\n",
    "file_list = glob.glob(r\"data/0*txt\")\n",
    "```\n",
    "````"
   ]
  },
  {
   "cell_type": "code",
   "execution_count": 63,
   "metadata": {},
   "outputs": [
    {
     "name": "stdout",
     "output_type": "stream",
     "text": [
      "Number of files in the list: 5\n",
      "['D:/Teaching_Development/Python_1_course_VT24/missing lecture/dataset\\\\Stockholm_continuous_final.txt', 'D:/Teaching_Development/Python_1_course_VT24/missing lecture/dataset\\\\Vasteras_continuous_final.txt', 'D:/Teaching_Development/Python_1_course_VT24/missing lecture/dataset\\\\Malmo_continuous_final.txt', 'D:/Teaching_Development/Python_1_course_VT24/missing lecture/dataset\\\\Uppsala_continuous_final.txt', 'D:/Teaching_Development/Python_1_course_VT24/missing lecture/dataset\\\\Gothenburg_continuous_final.txt']\n"
     ]
    }
   ],
   "source": [
    "print(f\"Number of files in the list: {len(file_list)}\")\n",
    "print(file_list)"
   ]
  },
  {
   "cell_type": "markdown",
   "metadata": {},
   "source": [
    "Now, you should have all the relevant file names in a list, and we can loop over the list using a for loop."
   ]
  },
  {
   "cell_type": "code",
   "execution_count": 64,
   "metadata": {},
   "outputs": [
    {
     "name": "stdout",
     "output_type": "stream",
     "text": [
      "D:/Teaching_Development/Python_1_course_VT24/missing lecture/dataset\\Stockholm_continuous_final.txt\n",
      "D:/Teaching_Development/Python_1_course_VT24/missing lecture/dataset\\Vasteras_continuous_final.txt\n",
      "D:/Teaching_Development/Python_1_course_VT24/missing lecture/dataset\\Malmo_continuous_final.txt\n",
      "D:/Teaching_Development/Python_1_course_VT24/missing lecture/dataset\\Uppsala_continuous_final.txt\n",
      "D:/Teaching_Development/Python_1_course_VT24/missing lecture/dataset\\Gothenburg_continuous_final.txt\n"
     ]
    }
   ],
   "source": [
    "for fp in file_list:\n",
    "    print(fp)"
   ]
  },
  {
   "cell_type": "code",
   "execution_count": 65,
   "metadata": {
    "jupyter": {
     "outputs_hidden": false
    }
   },
   "outputs": [
    {
     "name": "stdout",
     "output_type": "stream",
     "text": [
      "Location: Stockholm\n",
      "NUMBER OF OBSERVATIONS: 1096\n",
      "            Temp_Average_F     TEMP_C\n",
      "YEAR MONTH                           \n",
      "2018 7           53.371777  11.873210\n",
      "2019 7           49.490115   9.716731\n",
      "2020 7           46.239410   7.910783\n",
      "\n",
      "\n",
      "Location: Vasteras\n",
      "NUMBER OF OBSERVATIONS: 1096\n",
      "            Temp_Average_F     TEMP_C\n",
      "YEAR MONTH                           \n",
      "2018 7           52.178709  11.210394\n",
      "2019 7           48.292504   9.051391\n",
      "2020 7           46.981839   8.323244\n",
      "\n",
      "\n",
      "Location: Malmo\n",
      "NUMBER OF OBSERVATIONS: 1096\n",
      "            Temp_Average_F     TEMP_C\n",
      "YEAR MONTH                           \n",
      "2018 7           52.746521  11.525845\n",
      "2019 7           48.382259   9.101255\n",
      "2020 7           46.622180   8.123433\n",
      "\n",
      "\n",
      "Location: Uppsala\n",
      "NUMBER OF OBSERVATIONS: 1096\n",
      "            Temp_Average_F     TEMP_C\n",
      "YEAR MONTH                           \n",
      "2018 7           52.493039  11.385022\n",
      "2019 7           50.085999  10.047777\n",
      "2020 7           45.959570   7.755317\n",
      "\n",
      "\n",
      "Location: Gothenburg\n",
      "NUMBER OF OBSERVATIONS: 1096\n",
      "            Temp_Average_F     TEMP_C\n",
      "YEAR MONTH                           \n",
      "2018 7           52.997739  11.665411\n",
      "2019 7           49.091850   9.495472\n",
      "2020 7           46.622180   8.123433\n",
      "\n",
      "\n"
     ]
    }
   ],
   "source": [
    "# Repeat the analysis steps for each input file:\n",
    "for fp in file_list:\n",
    "\n",
    "    # Read selected columns of  data using varying amount of spaces as separator and specifying * characters as NoData values\n",
    "    data = pd.read_csv(\n",
    "        fp,\n",
    "        delim_whitespace=True,\n",
    "        usecols=[\"YRMODAHRMN\",\"Temperature\", \"Precipitation\",\"City\"],\n",
    "        na_values=[\"*\", \"**\", \"***\", \"****\", \"*****\", \"******\"],\n",
    "    )\n",
    "\n",
    "    # Rename the columns\n",
    "    new_names = {\"Temperature\": \"Temp_Average_F\", \"Precipitation\": \"PRECIP\", \"City\": \"Location\",\"YRMODAHRMN\": \"Date\"}\n",
    "\n",
    "    data = data.rename(columns=new_names)\n",
    "\n",
    "    # Print info about the current input file:\n",
    "    print(f\"Location: {data.at[0, 'Location']}\")\n",
    "    print(f\"NUMBER OF OBSERVATIONS: {len(data)}\")\n",
    "\n",
    "    # Create column\n",
    "    col_name = \"TEMP_C\"\n",
    "    data[col_name] = None\n",
    "\n",
    "    # Convert tempetarues from Fahrenheits to Celsius\n",
    "    data[\"TEMP_C\"] = data[\"Temp_Average_F\"].apply(fahr_to_celsius)\n",
    "\n",
    "    # Convert TIME to string\n",
    "    data[\"Date_STR\"] = data[\"Date\"].astype(str)\n",
    "\n",
    "    # Parse year and month\n",
    "    data[\"MONTH\"] = data[\"Date_STR\"].str.slice(start=5, stop=6).astype(int)\n",
    "    data[\"YEAR\"] = data[\"Date_STR\"].str.slice(start=0, stop=4).astype(int)\n",
    "\n",
    "    # Extract observations for the months of April\n",
    "    Julys = data[data[\"MONTH\"] == 7]\n",
    "\n",
    "    # Take a subset of columns\n",
    "    Julys = Julys[[ \"Temp_Average_F\", \"TEMP_C\", \"YEAR\", \"MONTH\"]]\n",
    "\n",
    "    # Group by year and month\n",
    "    grouped = Julys.groupby(by=[\"YEAR\", \"MONTH\"])\n",
    "\n",
    "    # Get mean values for each group\n",
    "    monthly_mean = grouped.mean()\n",
    "\n",
    "    # Print info\n",
    "    print(monthly_mean.sort_values(by=\"TEMP_C\", ascending=False).head(5))\n",
    "    print(\"\\n\")"
   ]
  },
  {
   "cell_type": "code",
   "execution_count": null,
   "metadata": {},
   "outputs": [],
   "source": []
  },
  {
   "cell_type": "code",
   "execution_count": null,
   "metadata": {},
   "outputs": [],
   "source": []
  }
 ],
 "metadata": {
  "kernelspec": {
   "display_name": "geopy1",
   "language": "python",
   "name": "geopy1"
  },
  "language_info": {
   "codemirror_mode": {
    "name": "ipython",
    "version": 3
   },
   "file_extension": ".py",
   "mimetype": "text/x-python",
   "name": "python",
   "nbconvert_exporter": "python",
   "pygments_lexer": "ipython3",
   "version": "3.11.4"
  }
 },
 "nbformat": 4,
 "nbformat_minor": 4
}
