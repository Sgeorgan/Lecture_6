{
 "cells": [
  {
   "cell_type": "markdown",
   "metadata": {},
   "source": [
    "# Debugging your Python code\n",
    "\n",
    "A pivotal aspect of refining your code, once you've navigated through syntax intricacies, is to go through the often painfull process of debugging. To accurately evaluate this, it's crucial to have a benchmark or a known result that the code is intended to produce. Often, this involves utilizing simplified datasets or specific scenarios to compute a known value.\n",
    "\n",
    "Let's shift our focus to a scenario involving the analysis of Sweden's daylight duration variability over the last decade. Without prior knowledge of the exact figures, we can't solely rely on adjusting the code until it yields the anticipated variation in daylight hours. Moreover, considering we're examining a decade's worth of data, the dataset could encompass thousands of entries, making it challenging to manually validate the accuracy of the results. Here, employing a smaller subset of the data for testing becomes invaluable. For example, we might select a concise segment of the dataset, perhaps the daylight duration data for the first week of January for the past ten years, illustrated as below:\n",
    " below."
   ]
  },
  {
   "cell_type": "raw",
   "metadata": {},
   "source": [
    "YEAR    MONTH DAY    SUNRISE   SUNSET    DAYLIGHT_DURATION\n",
    "------  ----- ----   --------  --------  -----------------\n",
    "2010    01    01     08:45     15:15     6.5 hours\n",
    "2011    01    02     08:45     15:17     6.53 hours\n",
    "2012    01    03     08:44     15:20     6.6 hours\n",
    "2013    01    04     08:44     15:22     6.63 hours\n",
    "2014    01    05     08:43     15:25     6.7 hours\n"
   ]
  },
  {
   "cell_type": "markdown",
   "metadata": {},
   "source": [
    "From this snippet, we can deduce two key points:\n",
    "\n",
    "The code must be capable of accurately calculating the daylight duration, adjusting for the variable sunrise and sunset times without ignoring any potential anomalies in the data (e.g., missing values).\n",
    "If our code correctly computes the daylight duration for this sample dataset, indicating a gradual increase over the selected days, we can be more confident in its ability to handle the complete dataset effectively.\n",
    "In such scenarios, testing with a smaller, manageable subset not only simplifies the debugging process but also serves as a reliable indicator of how well the code performs on a larger scale."
   ]
  },
  {
   "cell_type": "markdown",
   "metadata": {},
   "source": [
    "## Make your code crash quickly and regularly\n",
    "\n",
    "This may sound silly, but it is a good thing when your code crashes the same way every time you run it. If you have different behaviors when you run your code several times without making changes to the code, it will be much more difficult to isolate the source of the problem. What we ideally want in a code is to see behavior that is **consistent**.\n",
    "\n",
    "In addition, if you expect to debug your program efficiently, you can't afford to wait 30 minutes every time you run it in order for it to crash. If your code crashes when processing a massive data file, you can consider testing with some smaller part of the file. Does the code still crash? If not, why not? Are there some parts of the code that seem to run just fine every time? If you can reduce the time needed for a crash, and isolate where in the code the problem lies (perhaps in memory if you're dealing with really large datasets), you will save yourself time debugging."
   ]
  },
  {
   "cell_type": "markdown",
   "metadata": {},
   "source": [
    "## Make small changes and track them\n",
    "\n",
    "It is worth noting that often we don't keep track every single small change to our codes, but rather save when things are working as we expected. This means that when you debug, you might not keep track of every little change you make. This is fine, but it is important when you are debugging that you make small changes in one part of the code, then re-test. You should change one thing at a time, test the code, and make more changes if needed. Changing several things at once might be appealing, but it will make it harder to see exactly what is causing the problem because you can't isolate the issue to a single line of the program."
   ]
  },
  {
   "cell_type": "markdown",
   "metadata": {},
   "source": [
    "## Source\n",
    "\n",
    "Sourses: https://geo-python-site.readthedocs.io/en/latest/ running on a Attribution-ShareAlike 4.0 International Licence https://creativecommons.org/licenses/by-sa/4.0/deed.en and  [Software Carpentry group's lesson on debugging](https://swcarpentry.github.io/python-novice-inflammation/11-debugging.html).\n"
   ]
  },
  {
   "cell_type": "code",
   "execution_count": null,
   "metadata": {},
   "outputs": [],
   "source": []
  }
 ],
 "metadata": {
  "kernelspec": {
   "display_name": "Python 3 (ipykernel)",
   "language": "python",
   "name": "python3"
  },
  "language_info": {
   "codemirror_mode": {
    "name": "ipython",
    "version": 3
   },
   "file_extension": ".py",
   "mimetype": "text/x-python",
   "name": "python",
   "nbconvert_exporter": "python",
   "pygments_lexer": "ipython3",
   "version": "3.12.1"
  }
 },
 "nbformat": 4,
 "nbformat_minor": 4
}
