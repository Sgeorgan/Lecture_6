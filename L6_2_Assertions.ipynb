{
 "cells": [
  {
   "cell_type": "markdown",
   "metadata": {
    "tags": [
     "raises-exception"
    ]
   },
   "source": [
    "#  Using assertions\n",
    "\n",
    "\n",
    "The goal of [defensive programming](https://en.wikipedia.org/wiki/Defensive_programming) is to try to maximize the reliability and overall quality of a piece of software. For us, this means that we should take steps to handle unexpected input values in our code, and to provide helpful error messages that provide meaningful guidance to the user when a program raises an exception. We can take steps toward writing more reliable software by utilizing a helpful features in Python: Assertions.\n",
    "\n",
    "## Assertions\n",
    "\n",
    "*Assertions* are a way to assert, or ensure, that the values being used in your scripts are going to be suitable for what the code does. Let's start by considering the function `convert_kph_ms` that converts wind speeds from kilometers per hour to meters per second. We can define and use our function in the cell below."
   ]
  },
  {
   "cell_type": "code",
   "execution_count": null,
   "metadata": {},
   "outputs": [],
   "source": [
    "def convert_celsius_fahrenheit(temperature):\n",
    "    \"\"\"Converts temperature in Celsius to Fahrenheit\"\"\"\n",
    "    return (temperature * 9/5) + 32\n",
    "\n",
    "temperature_celsius = 20\n",
    "temperature_fahrenheit = convert_celsius_fahrenheit(temperature_celsius)\n",
    "\n",
    "print(f\"A temperature of {temperature_celsius}°C is equivalent to {temperature_fahrenheit}°F.\")\n"
   ]
  },
  {
   "cell_type": "markdown",
   "metadata": {},
   "source": [
    "\n",
    "In a similar vein, consider incorporating a safety check for temperature conversions to ensure the input is within a plausible range for earthly conditions. This check helps prevent absurd values from being processed, reflecting the principle of validating input data for realism and safety."
   ]
  },
  {
   "cell_type": "code",
   "execution_count": null,
   "metadata": {
    "tags": [
     "raises-exception"
    ]
   },
   "outputs": [],
   "source": [
    "def convert_celsius_fahrenheit(temperature):\n",
    "    \"\"\"Converts temperature in Celsius to Fahrenheit\"\"\"\n",
    "    # Ensure the temperature is within the possible range on Earth (-89 to 56 degrees Celsius)\n",
    "    assert -89 <= temperature <= 56, \"Temperature is outside the plausible Earth range.\"\n",
    "    return (temperature * 9/5) + 32\n",
    "\n",
    "temperature_celsius = 20\n",
    "temperature_fahrenheit = convert_celsius_fahrenheit(temperature_celsius)\n",
    "\n",
    "print(f\"A temperature of {temperature_celsius}°C is equivalent to {temperature_fahrenheit}°F.\")\n"
   ]
  },
  {
   "cell_type": "markdown",
   "metadata": {},
   "source": [
    "To mirror the exploration of handling unexpected or invalid input in the context of temperature conversion, let's examine the scenario where an implausible temperature for Earth is provided. This approach will demonstrate the assertion's role in safeguarding against unrealistic values."
   ]
  },
  {
   "cell_type": "code",
   "execution_count": null,
   "metadata": {
    "tags": [
     "raises-exception"
    ]
   },
   "outputs": [],
   "source": [
    "temperature_celsius = -100  # An implausibly low temperature for Earth's surface\n",
    "try:\n",
    "    temperature_fahrenheit = convert_celsius_fahrenheit(temperature_celsius)\n",
    "    print(f\"A temperature of {temperature_celsius}°C is equivalent to {temperature_fahrenheit}°F.\")\n",
    "except AssertionError as e:\n",
    "    print(f\"Error: {e}\")\n"
   ]
  },
  {
   "cell_type": "markdown",
   "metadata": {},
   "source": [
    "To enhance the user experience by providing more context on why an assertion fails, we can include a custom message with the assertion. This not only improves the clarity of the error but also guides the user towards understanding the constraints within which the function operates.\r\n",
    "\r\n",
    "Here's how you can apply this improvement to the temperature conversion function:"
   ]
  },
  {
   "cell_type": "code",
   "execution_count": null,
   "metadata": {
    "tags": [
     "raises-exception"
    ]
   },
   "outputs": [],
   "source": [
    "def convert_celsius_fahrenheit(temperature):\n",
    "    \"\"\"Converts temperature in Celsius to Fahrenheit\"\"\"\n",
    "    # Ensure the temperature is within the possible range on Earth, with a custom error message\n",
    "    assert -89 <= temperature <= 56, \"Error: Temperature must be between -89°C and 56°C, the known temperature range on Earth.\"\n",
    "    return (temperature * 9/5) + 32\n",
    "\n",
    "temperature_celsius = -100  # An implausibly low temperature for Earth's surface\n",
    "try:\n",
    "    temperature_fahrenheit = convert_celsius_fahrenheit(temperature_celsius)\n",
    "    print(f\"A temperature of {temperature_celsius}°C is equivalent to {temperature_fahrenheit}°F.\")\n",
    "except AssertionError as e:\n",
    "    print(f\"{e}\")\n"
   ]
  },
  {
   "cell_type": "markdown",
   "metadata": {},
   "source": [
    "Assertions serve as a powerful tool for developers to ensure their code behaves as expected during runtime. By explicitly checking conditions that must be true for the code to function correctly, assertions help identify bugs early in the development process. The addition of a custom error message provides clarity on the nature of the issue, making it easier for users or other developers to understand what went wrong and how to correct it. This practice significantly enhances code reliability and maintainability by preventing the propagation of erroneous values and states through the system."
   ]
  },
  {
   "cell_type": "markdown",
   "metadata": {},
   "source": [
    "### Multiple assertions\n",
    "\n",
    "#### A bad example\n",
    "\n",
    "Enhancing the robustness of our function with additional assertions ensures not only that we're working with the right type of data but also that it adheres to logical constraints. Applying a similar approach to another context, let's refine a function that converts temperatures from Celsius to Fahrenheit by ensuring the input is numeric and falls within a realistic range. This approach guarantees the function's integrity by preemptively validating input data."
   ]
  },
  {
   "cell_type": "code",
   "execution_count": null,
   "metadata": {
    "tags": [
     "raises-exception"
    ]
   },
   "outputs": [],
   "source": [
    "def convert_celsius_fahrenheit(temperature):\n",
    "    \"\"\"Converts temperature in Celsius to Fahrenheit\"\"\"\n",
    "    # Ensure the input is a number\n",
    "    assert isinstance(temperature, (int, float)), \"Temperature values must be numbers\"\n",
    "    # Ensure the temperature is within a plausible range\n",
    "    assert -89 <= temperature <= 56, \"Temperature must be between -89°C and 56°C, the known temperature range on Earth.\"\n",
    "    return (temperature * 9/5) + 32\n",
    "\n",
    "try:\n",
    "    temperature_celsius = \"freezing\"  # An invalid string input\n",
    "    temperature_fahrenheit = convert_celsius_fahrenheit(temperature_celsius)\n",
    "    print(f\"A temperature of {temperature_celsius}°C is equivalent to {temperature_fahrenheit}°F.\")\n",
    "except AssertionError as e:\n",
    "    print(f\"{e}\")\n"
   ]
  },
  {
   "cell_type": "markdown",
   "metadata": {},
   "source": [
    "In this modified example, the first assertion checks if the input is either an integer or a float, ensuring that the function operates on a valid numerical value. The second assertion verifies that the temperature falls within a reasonable range for Earth. It seems it works good so what is the problem?"
   ]
  },
  {
   "cell_type": "markdown",
   "metadata": {},
   "source": [
    "# A better example"
   ]
  },
  {
   "cell_type": "code",
   "execution_count": null,
   "metadata": {},
   "outputs": [],
   "source": [
    "def convert_celsius_fahrenheit(temperature):\n",
    "    \"\"\"\n",
    "    Converts temperature in Celsius to Fahrenheit.\n",
    "    \n",
    "    Allows TypeError for incompatible data types.\n",
    "    Uses assertions to ensure input values are within Earth's plausible temperature range.\n",
    "    \"\"\"\n",
    "    # Allow Python to raise TypeError naturally for incompatible data types\n",
    "    try:\n",
    "        fahrenheit = (temperature * 9/5) + 32\n",
    "    except TypeError as e:\n",
    "        raise TypeError(\"Temperature must be a number (int or float).\") from e\n",
    "\n",
    "    # Use assertions to validate the input value's logical sense\n",
    "    assert -89 <= temperature <= 56, \"Temperature must be within -89°C to 56°C, Earth's known temperature range.\"\n",
    "\n",
    "    return fahrenheit\n",
    "\n",
    "# Example usage\n",
    "try:\n",
    "    temperature_celsius = 20  # Valid input\n",
    "    temperature_fahrenheit = convert_celsius_fahrenheit(temperature_celsius)\n",
    "    print(f\"{temperature_celsius}°C is {temperature_fahrenheit}°F.\")\n",
    "except AssertionError as error:\n",
    "    print(f\"Assertion Error: {error}\")\n",
    "except TypeError as error:\n",
    "    print(f\"Type Error: {error}\")\n"
   ]
  },
  {
   "cell_type": "markdown",
   "metadata": {},
   "source": [
    "This function will convert temperatures from Celsius to Fahrenheit, allowing `TypeError` to naturally occur for incompatible data types, while using assertions to validate that the input values are within a reasonable and scientifically valid range for Earth's climate.\r\n",
    "\r\n",
    "- **Key Points:**\r\n",
    "  - **Handling Incompatible Data Types:** The function is designed to let Python's built-in `TypeError` communicate issues with data type compatibility, providing clear, standard feedback when non-numeric input is provided.\r\n",
    "  - **Logical Value Checks:** Assertions are strategically used to ensure that the temperature values inputted make sense for Earth's environment, helping guide users towards proper function use by setting realistic bou\n",
    "    nds.\r\n",
    "\r\n",
    "- **Considerations:**\r\n",
    "  - The use of assertions for checking input values against realistic bounds is showcased here for educational purposes. However, it's crucial to remember that assertions may not be suitable for all forms of user input validation, especially in production code. Assertions can be bypassed if Python is run with optimizations (using the `-O` flag), which could ignore these checks entirely.\r\n",
    "\r\n",
    "For robust input validation in user-facing applications, consider employing explicit error handling or custom validation logic that remains active regardless of how the Python interpreter is executed.\r\n",
    "\r\n",
    "This approach not only demonstrates good practices in error handling and input validation but also aligns with the philosophy of using the right tool for the right job, ensuring code reliability and usability.\r\n",
    "usability."
   ]
  },
  {
   "cell_type": "code",
   "execution_count": null,
   "metadata": {},
   "outputs": [],
   "source": []
  }
 ],
 "metadata": {
  "kernelspec": {
   "display_name": "Python 3 (ipykernel)",
   "language": "python",
   "name": "python3"
  },
  "language_info": {
   "codemirror_mode": {
    "name": "ipython",
    "version": 3
   },
   "file_extension": ".py",
   "mimetype": "text/x-python",
   "name": "python",
   "nbconvert_exporter": "python",
   "pygments_lexer": "ipython3",
   "version": "3.12.1"
  }
 },
 "nbformat": 4,
 "nbformat_minor": 4
}
