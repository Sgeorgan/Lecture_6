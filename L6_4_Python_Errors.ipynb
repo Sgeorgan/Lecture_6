{
 "cells": [
  {
   "cell_type": "markdown",
   "id": "69615a77",
   "metadata": {},
   "source": [
    "# Introduction to Python Errors\n",
    "\n",
    "Welcome to this Jupyter notebook designed for beginner Python programmers. Understanding and resolving errors is a crucial part of programming. Errors are not your enemies; they are helpful messages that guide you to find and fix issues in your code. In this notebook, we'll explore common types of errors you'll encounter while coding in Python and learn how to address them."
   ]
  },
  {
   "cell_type": "markdown",
   "id": "ae92411e",
   "metadata": {},
   "source": [
    "## Syntax Errors\n",
    "\n",
    "Syntax errors occur when the Python parser detects an incorrect statement. This means there's something wrong with the way your code is written."
   ]
  },
  {
   "cell_type": "code",
   "execution_count": null,
   "id": "db18a554",
   "metadata": {},
   "outputs": [],
   "source": [
    "wind_speed_km = 50\n",
    "wind_speed_ms = wind_speed_km * 1000 / 3600\n",
    "\n",
    "# Missing closing quotation mark\n",
    "print(f\"A wind speed of {wind_speed_km} km/hr is {wind_speed_ms} m/s.)"
   ]
  },
  {
   "cell_type": "markdown",
   "id": "23c59cd0",
   "metadata": {},
   "source": [
    "**Fixing the SyntaxError:** Ensure that all your strings are properly closed with matching quotation marks."
   ]
  },
  {
   "cell_type": "markdown",
   "id": "889d4992",
   "metadata": {},
   "source": [
    "## Runtime Errors\n",
    "\n",
    "Runtime errors occur while your program is running. These are not syntax errors, but rather mistakes that become apparent only when the code is executed."
   ]
  },
  {
   "cell_type": "markdown",
   "id": "2bc2bb8c-cd92-4dae-a1b6-5f6bd103aa2f",
   "metadata": {},
   "source": [
    "### NameError example"
   ]
  },
  {
   "cell_type": "code",
   "execution_count": null,
   "id": "cd1aa27c",
   "metadata": {},
   "outputs": [],
   "source": [
    "# NameError example\n",
    "print(age)"
   ]
  },
  {
   "cell_type": "markdown",
   "id": "596c179d",
   "metadata": {},
   "source": [
    "**Fixing the NameError:** Make sure all variables are defined before you use them."
   ]
  },
  {
   "cell_type": "markdown",
   "id": "bb1bd4dc-9bd1-4b4f-ad7c-da1fd8c99915",
   "metadata": {},
   "source": [
    "### TypeError\n",
    "Issue Description:\n",
    "A TypeError occurs when an operation is performed on an object of an inappropriate type. This can happen when you try to concatenate a string with a non-string type without explicit conversion, or when you perform operations that are not supported by the object's type."
   ]
  },
  {
   "cell_type": "code",
   "execution_count": null,
   "id": "37c9160a-25f9-4af7-87d5-da0c488e7154",
   "metadata": {},
   "outputs": [],
   "source": [
    "# Attempting to concatenate a string with an integer\n",
    "age = 25\n",
    "message = \"You are \" + age + \" years old.\"\n"
   ]
  },
  {
   "cell_type": "markdown",
   "id": "87e27121-cd25-4122-9de2-4159c7dfaec6",
   "metadata": {},
   "source": [
    "### ValueError\n",
    "Issue Description:\n",
    "A ValueError occurs when a function receives an argument of the correct type but with an inappropriate value. This can happen when converting types or when using functions that require specific values that do not match the input."
   ]
  },
  {
   "cell_type": "code",
   "execution_count": null,
   "id": "4804084d-c011-4f4e-9887-9935f9d1c552",
   "metadata": {},
   "outputs": [],
   "source": [
    "# Attempting to convert an invalid string to an integer\n",
    "number = int(\"twenty\")\n"
   ]
  },
  {
   "cell_type": "markdown",
   "id": "cc488c09",
   "metadata": {},
   "source": [
    "## Logical Errors\n",
    "\n",
    "Logical errors are the hardest to track because the code does not crash. Instead, it runs successfully but produces incorrect results."
   ]
  },
  {
   "cell_type": "code",
   "execution_count": null,
   "id": "e86fa546",
   "metadata": {},
   "outputs": [],
   "source": [
    "# Incorrect calculation\n",
    "total_minutes = 70\n",
    "hours = total_minutes / 60 # Logical error: This will not round to the nearest hour\n",
    "print(f'Hours: {hours}')"
   ]
  },
  {
   "cell_type": "markdown",
   "id": "e8a7f5cd",
   "metadata": {},
   "source": [
    "**Fixing the Logical Error:** Apply correct logic/formula to achieve the desired result."
   ]
  },
  {
   "cell_type": "markdown",
   "id": "749abac5",
   "metadata": {},
   "source": [
    "## Handling Exceptions\n",
    "\n",
    "Python provides a way to handle errors so that your program doesn't crash. You can anticipate potential errors and manage them using `try` and `except` blocks."
   ]
  },
  {
   "cell_type": "code",
   "execution_count": null,
   "id": "0b7bd1e7",
   "metadata": {},
   "outputs": [],
   "source": [
    "try:\n",
    "    print(10 / 0)\n",
    "except ZeroDivisionError:\n",
    "    print('You cannot divide by zero.')"
   ]
  },
  {
   "cell_type": "markdown",
   "id": "4ba23300-3aa3-4b1c-85d2-69811ab15f08",
   "metadata": {},
   "source": [
    "\n",
    "Let's address the missing examples by expanding the original content with explanations and fixes for the additional examples you've mentioned. I'll provide descriptions for each example here, which you could then incorporate into your notebook or any educational material.\n",
    "\n",
    "# Example: Missing Colon in Control Flow Statement"
   ]
  },
  {
   "cell_type": "code",
   "execution_count": null,
   "id": "95700672-2de9-4237-9e31-34ca7b3f02b7",
   "metadata": {},
   "outputs": [],
   "source": [
    "# Incorrect code missing a colon\n",
    "if True\n",
    "    print(\"This statement is true.\")\n"
   ]
  },
  {
   "cell_type": "markdown",
   "id": "525329ee-e34e-44bf-bf3b-feeed864241d",
   "metadata": {},
   "source": [
    "# Example: Indentation error"
   ]
  },
  {
   "cell_type": "code",
   "execution_count": null,
   "id": "e99d3687-c6b1-40f6-9de0-a90817c3e5f0",
   "metadata": {},
   "outputs": [],
   "source": [
    "# Incorrect indentation\n",
    "if True:\n",
    "print(\"This statement is true.\")  # This line should be indented\n"
   ]
  },
  {
   "cell_type": "markdown",
   "id": "c936784e-8ba1-456c-a6e4-5e7ae207b9a4",
   "metadata": {},
   "source": [
    "#### Other kinds of errors\n",
    "\n",
    "There are certainly [other kinds of errors and exceptions in Python](https://docs.python.org/3/tutorial/errors.html), but this list comprises those you're most likely to encounter.\n",
    "As you can see, knowing the name of each error can be helpful in trying to figure out what has gone wrong, and knowing what these common error types mean will save you time trying to fix your programs."
   ]
  },
  {
   "cell_type": "markdown",
   "id": "95a9ab49",
   "metadata": {},
   "source": [
    "## Conclusion\n",
    "\n",
    "Congratulations on completing this notebook! Remember, encountering errors is a normal part of the programming process. Each error is an opportunity to learn and improve your coding skills. Keep practicing, and don't be afraid to make mistakes. Happy coding!"
   ]
  },
  {
   "cell_type": "code",
   "execution_count": null,
   "id": "823c5592-9df7-4176-8c22-bf0a3f2d1a5a",
   "metadata": {},
   "outputs": [],
   "source": []
  }
 ],
 "metadata": {
  "kernelspec": {
   "display_name": "Python (new_env_name)",
   "language": "python",
   "name": "new_env_name"
  },
  "language_info": {
   "codemirror_mode": {
    "name": "ipython",
    "version": 3
   },
   "file_extension": ".py",
   "mimetype": "text/x-python",
   "name": "python",
   "nbconvert_exporter": "python",
   "pygments_lexer": "ipython3",
   "version": "3.12.1"
  }
 },
 "nbformat": 4,
 "nbformat_minor": 5
}
